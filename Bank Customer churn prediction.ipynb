{
 "cells": [
  {
   "cell_type": "code",
   "execution_count": 4,
   "id": "30fe9f74",
   "metadata": {},
   "outputs": [],
   "source": [
    "import numpy as np\n",
    "import pandas as pd\n",
    "import matplotlib.pyplot as plt\n",
    "import seaborn as sns"
   ]
  },
  {
   "cell_type": "code",
   "execution_count": 5,
   "id": "f464cb7c",
   "metadata": {},
   "outputs": [
    {
     "data": {
      "text/html": [
       "<div>\n",
       "<style scoped>\n",
       "    .dataframe tbody tr th:only-of-type {\n",
       "        vertical-align: middle;\n",
       "    }\n",
       "\n",
       "    .dataframe tbody tr th {\n",
       "        vertical-align: top;\n",
       "    }\n",
       "\n",
       "    .dataframe thead th {\n",
       "        text-align: right;\n",
       "    }\n",
       "</style>\n",
       "<table border=\"1\" class=\"dataframe\">\n",
       "  <thead>\n",
       "    <tr style=\"text-align: right;\">\n",
       "      <th></th>\n",
       "      <th>customer_id</th>\n",
       "      <th>credit_score</th>\n",
       "      <th>country</th>\n",
       "      <th>gender</th>\n",
       "      <th>age</th>\n",
       "      <th>tenure</th>\n",
       "      <th>balance</th>\n",
       "      <th>products_number</th>\n",
       "      <th>credit_card</th>\n",
       "      <th>active_member</th>\n",
       "      <th>estimated_salary</th>\n",
       "      <th>churn</th>\n",
       "    </tr>\n",
       "  </thead>\n",
       "  <tbody>\n",
       "    <tr>\n",
       "      <th>0</th>\n",
       "      <td>15634602</td>\n",
       "      <td>619</td>\n",
       "      <td>France</td>\n",
       "      <td>Female</td>\n",
       "      <td>42</td>\n",
       "      <td>2</td>\n",
       "      <td>0.00</td>\n",
       "      <td>1</td>\n",
       "      <td>1</td>\n",
       "      <td>1</td>\n",
       "      <td>101348.88</td>\n",
       "      <td>1</td>\n",
       "    </tr>\n",
       "    <tr>\n",
       "      <th>1</th>\n",
       "      <td>15647311</td>\n",
       "      <td>608</td>\n",
       "      <td>Spain</td>\n",
       "      <td>Female</td>\n",
       "      <td>41</td>\n",
       "      <td>1</td>\n",
       "      <td>83807.86</td>\n",
       "      <td>1</td>\n",
       "      <td>0</td>\n",
       "      <td>1</td>\n",
       "      <td>112542.58</td>\n",
       "      <td>0</td>\n",
       "    </tr>\n",
       "    <tr>\n",
       "      <th>2</th>\n",
       "      <td>15619304</td>\n",
       "      <td>502</td>\n",
       "      <td>France</td>\n",
       "      <td>Female</td>\n",
       "      <td>42</td>\n",
       "      <td>8</td>\n",
       "      <td>159660.80</td>\n",
       "      <td>3</td>\n",
       "      <td>1</td>\n",
       "      <td>0</td>\n",
       "      <td>113931.57</td>\n",
       "      <td>1</td>\n",
       "    </tr>\n",
       "    <tr>\n",
       "      <th>3</th>\n",
       "      <td>15701354</td>\n",
       "      <td>699</td>\n",
       "      <td>France</td>\n",
       "      <td>Female</td>\n",
       "      <td>39</td>\n",
       "      <td>1</td>\n",
       "      <td>0.00</td>\n",
       "      <td>2</td>\n",
       "      <td>0</td>\n",
       "      <td>0</td>\n",
       "      <td>93826.63</td>\n",
       "      <td>0</td>\n",
       "    </tr>\n",
       "    <tr>\n",
       "      <th>4</th>\n",
       "      <td>15737888</td>\n",
       "      <td>850</td>\n",
       "      <td>Spain</td>\n",
       "      <td>Female</td>\n",
       "      <td>43</td>\n",
       "      <td>2</td>\n",
       "      <td>125510.82</td>\n",
       "      <td>1</td>\n",
       "      <td>1</td>\n",
       "      <td>1</td>\n",
       "      <td>79084.10</td>\n",
       "      <td>0</td>\n",
       "    </tr>\n",
       "    <tr>\n",
       "      <th>5</th>\n",
       "      <td>15574012</td>\n",
       "      <td>645</td>\n",
       "      <td>Spain</td>\n",
       "      <td>Male</td>\n",
       "      <td>44</td>\n",
       "      <td>8</td>\n",
       "      <td>113755.78</td>\n",
       "      <td>2</td>\n",
       "      <td>1</td>\n",
       "      <td>0</td>\n",
       "      <td>149756.71</td>\n",
       "      <td>1</td>\n",
       "    </tr>\n",
       "    <tr>\n",
       "      <th>6</th>\n",
       "      <td>15592531</td>\n",
       "      <td>822</td>\n",
       "      <td>France</td>\n",
       "      <td>Male</td>\n",
       "      <td>50</td>\n",
       "      <td>7</td>\n",
       "      <td>0.00</td>\n",
       "      <td>2</td>\n",
       "      <td>1</td>\n",
       "      <td>1</td>\n",
       "      <td>10062.80</td>\n",
       "      <td>0</td>\n",
       "    </tr>\n",
       "    <tr>\n",
       "      <th>7</th>\n",
       "      <td>15656148</td>\n",
       "      <td>376</td>\n",
       "      <td>Germany</td>\n",
       "      <td>Female</td>\n",
       "      <td>29</td>\n",
       "      <td>4</td>\n",
       "      <td>115046.74</td>\n",
       "      <td>4</td>\n",
       "      <td>1</td>\n",
       "      <td>0</td>\n",
       "      <td>119346.88</td>\n",
       "      <td>1</td>\n",
       "    </tr>\n",
       "    <tr>\n",
       "      <th>8</th>\n",
       "      <td>15792365</td>\n",
       "      <td>501</td>\n",
       "      <td>France</td>\n",
       "      <td>Male</td>\n",
       "      <td>44</td>\n",
       "      <td>4</td>\n",
       "      <td>142051.07</td>\n",
       "      <td>2</td>\n",
       "      <td>0</td>\n",
       "      <td>1</td>\n",
       "      <td>74940.50</td>\n",
       "      <td>0</td>\n",
       "    </tr>\n",
       "    <tr>\n",
       "      <th>9</th>\n",
       "      <td>15592389</td>\n",
       "      <td>684</td>\n",
       "      <td>France</td>\n",
       "      <td>Male</td>\n",
       "      <td>27</td>\n",
       "      <td>2</td>\n",
       "      <td>134603.88</td>\n",
       "      <td>1</td>\n",
       "      <td>1</td>\n",
       "      <td>1</td>\n",
       "      <td>71725.73</td>\n",
       "      <td>0</td>\n",
       "    </tr>\n",
       "  </tbody>\n",
       "</table>\n",
       "</div>"
      ],
      "text/plain": [
       "   customer_id  credit_score  country  gender  age  tenure    balance  \\\n",
       "0     15634602           619   France  Female   42       2       0.00   \n",
       "1     15647311           608    Spain  Female   41       1   83807.86   \n",
       "2     15619304           502   France  Female   42       8  159660.80   \n",
       "3     15701354           699   France  Female   39       1       0.00   \n",
       "4     15737888           850    Spain  Female   43       2  125510.82   \n",
       "5     15574012           645    Spain    Male   44       8  113755.78   \n",
       "6     15592531           822   France    Male   50       7       0.00   \n",
       "7     15656148           376  Germany  Female   29       4  115046.74   \n",
       "8     15792365           501   France    Male   44       4  142051.07   \n",
       "9     15592389           684   France    Male   27       2  134603.88   \n",
       "\n",
       "   products_number  credit_card  active_member  estimated_salary  churn  \n",
       "0                1            1              1         101348.88      1  \n",
       "1                1            0              1         112542.58      0  \n",
       "2                3            1              0         113931.57      1  \n",
       "3                2            0              0          93826.63      0  \n",
       "4                1            1              1          79084.10      0  \n",
       "5                2            1              0         149756.71      1  \n",
       "6                2            1              1          10062.80      0  \n",
       "7                4            1              0         119346.88      1  \n",
       "8                2            0              1          74940.50      0  \n",
       "9                1            1              1          71725.73      0  "
      ]
     },
     "execution_count": 5,
     "metadata": {},
     "output_type": "execute_result"
    }
   ],
   "source": [
    "data=pd.read_csv(\"Bank Customer Churn Prediction.csv\")\n",
    "data.head(10)\n"
   ]
  },
  {
   "cell_type": "code",
   "execution_count": 6,
   "id": "4f3de2cb",
   "metadata": {},
   "outputs": [
    {
     "data": {
      "text/plain": [
       "4"
      ]
     },
     "execution_count": 6,
     "metadata": {},
     "output_type": "execute_result"
    }
   ],
   "source": [
    "data.products_number.max()"
   ]
  },
  {
   "cell_type": "code",
   "execution_count": 7,
   "id": "f80289fb",
   "metadata": {},
   "outputs": [
    {
     "name": "stdout",
     "output_type": "stream",
     "text": [
      "<class 'pandas.core.frame.DataFrame'>\n",
      "RangeIndex: 10000 entries, 0 to 9999\n",
      "Data columns (total 12 columns):\n",
      " #   Column            Non-Null Count  Dtype  \n",
      "---  ------            --------------  -----  \n",
      " 0   customer_id       10000 non-null  int64  \n",
      " 1   credit_score      10000 non-null  int64  \n",
      " 2   country           10000 non-null  object \n",
      " 3   gender            10000 non-null  object \n",
      " 4   age               10000 non-null  int64  \n",
      " 5   tenure            10000 non-null  int64  \n",
      " 6   balance           10000 non-null  float64\n",
      " 7   products_number   10000 non-null  int64  \n",
      " 8   credit_card       10000 non-null  int64  \n",
      " 9   active_member     10000 non-null  int64  \n",
      " 10  estimated_salary  10000 non-null  float64\n",
      " 11  churn             10000 non-null  int64  \n",
      "dtypes: float64(2), int64(8), object(2)\n",
      "memory usage: 937.6+ KB\n"
     ]
    }
   ],
   "source": [
    "data.info()"
   ]
  },
  {
   "cell_type": "markdown",
   "id": "8c8dda0a",
   "metadata": {},
   "source": [
    "Removing irrelvent columns or features"
   ]
  },
  {
   "cell_type": "code",
   "execution_count": 8,
   "id": "4f5ffd66",
   "metadata": {},
   "outputs": [],
   "source": [
    "data = data.drop(columns=['country'])"
   ]
  },
  {
   "cell_type": "code",
   "execution_count": null,
   "id": "d9de15b4",
   "metadata": {},
   "outputs": [],
   "source": []
  },
  {
   "cell_type": "code",
   "execution_count": 9,
   "id": "d4c8f73c",
   "metadata": {},
   "outputs": [],
   "source": [
    "X=data.iloc[:,:-1]\n",
    "Y=data.iloc[:,-1]"
   ]
  },
  {
   "cell_type": "code",
   "execution_count": 10,
   "id": "e24d1659",
   "metadata": {},
   "outputs": [
    {
     "data": {
      "text/plain": [
       "customer_id         10000\n",
       "credit_score          460\n",
       "gender                  2\n",
       "age                    70\n",
       "tenure                 11\n",
       "balance              6382\n",
       "products_number         4\n",
       "credit_card             2\n",
       "active_member           2\n",
       "estimated_salary     9999\n",
       "dtype: int64"
      ]
     },
     "execution_count": 10,
     "metadata": {},
     "output_type": "execute_result"
    }
   ],
   "source": [
    "X.nunique()"
   ]
  },
  {
   "cell_type": "code",
   "execution_count": 11,
   "id": "6850a6ae",
   "metadata": {},
   "outputs": [
    {
     "data": {
      "text/plain": [
       "['customer_id',\n",
       " 'credit_score',\n",
       " 'age',\n",
       " 'tenure',\n",
       " 'balance',\n",
       " 'products_number',\n",
       " 'credit_card',\n",
       " 'active_member',\n",
       " 'estimated_salary']"
      ]
     },
     "execution_count": 11,
     "metadata": {},
     "output_type": "execute_result"
    }
   ],
   "source": [
    "categorical_cols=[x for x in X.columns if X[x].dtype=='object']\n",
    "numeric_cols=[x for x in X.columns if X[x].dtype!='object']\n",
    "\n",
    "numeric_cols"
   ]
  },
  {
   "cell_type": "code",
   "execution_count": null,
   "id": "eea1301f",
   "metadata": {},
   "outputs": [],
   "source": []
  },
  {
   "cell_type": "code",
   "execution_count": 12,
   "id": "e8324ba4",
   "metadata": {
    "scrolled": true
   },
   "outputs": [
    {
     "data": {
      "text/html": [
       "<div>\n",
       "<style scoped>\n",
       "    .dataframe tbody tr th:only-of-type {\n",
       "        vertical-align: middle;\n",
       "    }\n",
       "\n",
       "    .dataframe tbody tr th {\n",
       "        vertical-align: top;\n",
       "    }\n",
       "\n",
       "    .dataframe thead th {\n",
       "        text-align: right;\n",
       "    }\n",
       "</style>\n",
       "<table border=\"1\" class=\"dataframe\">\n",
       "  <thead>\n",
       "    <tr style=\"text-align: right;\">\n",
       "      <th></th>\n",
       "      <th>customer_id</th>\n",
       "      <th>credit_score</th>\n",
       "      <th>age</th>\n",
       "      <th>tenure</th>\n",
       "      <th>balance</th>\n",
       "      <th>products_number</th>\n",
       "      <th>credit_card</th>\n",
       "      <th>active_member</th>\n",
       "      <th>estimated_salary</th>\n",
       "    </tr>\n",
       "  </thead>\n",
       "  <tbody>\n",
       "    <tr>\n",
       "      <th>count</th>\n",
       "      <td>1.000000e+04</td>\n",
       "      <td>10000.000000</td>\n",
       "      <td>10000.000000</td>\n",
       "      <td>10000.000000</td>\n",
       "      <td>10000.000000</td>\n",
       "      <td>10000.000000</td>\n",
       "      <td>10000.00000</td>\n",
       "      <td>10000.000000</td>\n",
       "      <td>10000.000000</td>\n",
       "    </tr>\n",
       "    <tr>\n",
       "      <th>mean</th>\n",
       "      <td>1.569094e+07</td>\n",
       "      <td>650.528800</td>\n",
       "      <td>38.921800</td>\n",
       "      <td>5.012800</td>\n",
       "      <td>76485.889288</td>\n",
       "      <td>1.530200</td>\n",
       "      <td>0.70550</td>\n",
       "      <td>0.515100</td>\n",
       "      <td>100090.239881</td>\n",
       "    </tr>\n",
       "    <tr>\n",
       "      <th>std</th>\n",
       "      <td>7.193619e+04</td>\n",
       "      <td>96.653299</td>\n",
       "      <td>10.487806</td>\n",
       "      <td>2.892174</td>\n",
       "      <td>62397.405202</td>\n",
       "      <td>0.581654</td>\n",
       "      <td>0.45584</td>\n",
       "      <td>0.499797</td>\n",
       "      <td>57510.492818</td>\n",
       "    </tr>\n",
       "    <tr>\n",
       "      <th>min</th>\n",
       "      <td>1.556570e+07</td>\n",
       "      <td>350.000000</td>\n",
       "      <td>18.000000</td>\n",
       "      <td>0.000000</td>\n",
       "      <td>0.000000</td>\n",
       "      <td>1.000000</td>\n",
       "      <td>0.00000</td>\n",
       "      <td>0.000000</td>\n",
       "      <td>11.580000</td>\n",
       "    </tr>\n",
       "    <tr>\n",
       "      <th>25%</th>\n",
       "      <td>1.562853e+07</td>\n",
       "      <td>584.000000</td>\n",
       "      <td>32.000000</td>\n",
       "      <td>3.000000</td>\n",
       "      <td>0.000000</td>\n",
       "      <td>1.000000</td>\n",
       "      <td>0.00000</td>\n",
       "      <td>0.000000</td>\n",
       "      <td>51002.110000</td>\n",
       "    </tr>\n",
       "    <tr>\n",
       "      <th>50%</th>\n",
       "      <td>1.569074e+07</td>\n",
       "      <td>652.000000</td>\n",
       "      <td>37.000000</td>\n",
       "      <td>5.000000</td>\n",
       "      <td>97198.540000</td>\n",
       "      <td>1.000000</td>\n",
       "      <td>1.00000</td>\n",
       "      <td>1.000000</td>\n",
       "      <td>100193.915000</td>\n",
       "    </tr>\n",
       "    <tr>\n",
       "      <th>75%</th>\n",
       "      <td>1.575323e+07</td>\n",
       "      <td>718.000000</td>\n",
       "      <td>44.000000</td>\n",
       "      <td>7.000000</td>\n",
       "      <td>127644.240000</td>\n",
       "      <td>2.000000</td>\n",
       "      <td>1.00000</td>\n",
       "      <td>1.000000</td>\n",
       "      <td>149388.247500</td>\n",
       "    </tr>\n",
       "    <tr>\n",
       "      <th>max</th>\n",
       "      <td>1.581569e+07</td>\n",
       "      <td>850.000000</td>\n",
       "      <td>92.000000</td>\n",
       "      <td>10.000000</td>\n",
       "      <td>250898.090000</td>\n",
       "      <td>4.000000</td>\n",
       "      <td>1.00000</td>\n",
       "      <td>1.000000</td>\n",
       "      <td>199992.480000</td>\n",
       "    </tr>\n",
       "  </tbody>\n",
       "</table>\n",
       "</div>"
      ],
      "text/plain": [
       "        customer_id  credit_score           age        tenure        balance  \\\n",
       "count  1.000000e+04  10000.000000  10000.000000  10000.000000   10000.000000   \n",
       "mean   1.569094e+07    650.528800     38.921800      5.012800   76485.889288   \n",
       "std    7.193619e+04     96.653299     10.487806      2.892174   62397.405202   \n",
       "min    1.556570e+07    350.000000     18.000000      0.000000       0.000000   \n",
       "25%    1.562853e+07    584.000000     32.000000      3.000000       0.000000   \n",
       "50%    1.569074e+07    652.000000     37.000000      5.000000   97198.540000   \n",
       "75%    1.575323e+07    718.000000     44.000000      7.000000  127644.240000   \n",
       "max    1.581569e+07    850.000000     92.000000     10.000000  250898.090000   \n",
       "\n",
       "       products_number  credit_card  active_member  estimated_salary  \n",
       "count     10000.000000  10000.00000   10000.000000      10000.000000  \n",
       "mean          1.530200      0.70550       0.515100     100090.239881  \n",
       "std           0.581654      0.45584       0.499797      57510.492818  \n",
       "min           1.000000      0.00000       0.000000         11.580000  \n",
       "25%           1.000000      0.00000       0.000000      51002.110000  \n",
       "50%           1.000000      1.00000       1.000000     100193.915000  \n",
       "75%           2.000000      1.00000       1.000000     149388.247500  \n",
       "max           4.000000      1.00000       1.000000     199992.480000  "
      ]
     },
     "execution_count": 12,
     "metadata": {},
     "output_type": "execute_result"
    }
   ],
   "source": [
    "X[numeric_cols].describe()"
   ]
  },
  {
   "cell_type": "code",
   "execution_count": 13,
   "id": "f0b3c118",
   "metadata": {},
   "outputs": [],
   "source": [
    "var=['credit_card','active_member','products_number']\n",
    "for i in var:\n",
    "    numeric_cols.remove(i)\n",
    "    categorical_cols.append(i)\n"
   ]
  },
  {
   "cell_type": "code",
   "execution_count": 14,
   "id": "9f7cb2df",
   "metadata": {},
   "outputs": [
    {
     "data": {
      "text/plain": [
       "(['gender', 'credit_card', 'active_member', 'products_number'],\n",
       " ['customer_id',\n",
       "  'credit_score',\n",
       "  'age',\n",
       "  'tenure',\n",
       "  'balance',\n",
       "  'estimated_salary'])"
      ]
     },
     "execution_count": 14,
     "metadata": {},
     "output_type": "execute_result"
    }
   ],
   "source": [
    "categorical_cols,numeric_cols"
   ]
  },
  {
   "cell_type": "code",
   "execution_count": 15,
   "id": "a8682f86",
   "metadata": {},
   "outputs": [
    {
     "data": {
      "text/plain": [
       "<AxesSubplot:>"
      ]
     },
     "execution_count": 15,
     "metadata": {},
     "output_type": "execute_result"
    },
    {
     "data": {
      "image/png": "[encoded data removed]",
      "text/plain": [
       "<Figure size 1000x800 with 2 Axes>"
      ]
     },
     "metadata": {},
     "output_type": "display_data"
    }
   ],
   "source": [
    "plt.figure(figsize=(10,8))\n",
    "plt.xticks(rotation=45)\n",
    "sns.heatmap(X[numeric_cols].corr(),annot=True)"
   ]
  },
  {
   "cell_type": "code",
   "execution_count": 16,
   "id": "1b68012d",
   "metadata": {},
   "outputs": [
    {
     "data": {
      "image/png": "[encoded data removed]",
      "text/plain": [
       "<Figure size 800x600 with 1 Axes>"
      ]
     },
     "metadata": {},
     "output_type": "display_data"
    }
   ],
   "source": [
    "labels = 'Churn', 'Not Churn'\n",
    "sizes = [data.churn[data['churn']==1].count(), data.churn[data['churn']==0].count()]\n",
    "explode = (0, 0.1)\n",
    "fig1, ax1 = plt.subplots(figsize=(8, 6))\n",
    "ax1.pie(sizes, explode=explode,colors=('red','green'),labels=labels, autopct='%1.1f%%',shadow=True, startangle=90)\n",
    "ax1.axis('equal')\n",
    "plt.title(\"churned vs Not churn\", size = 20)\n",
    "plt.show()"
   ]
  },
  {
   "cell_type": "code",
   "execution_count": 17,
   "id": "36600cb0",
   "metadata": {},
   "outputs": [
    {
     "name": "stderr",
     "output_type": "stream",
     "text": [
      "No artists with labels found to put in legend.  Note that artists whose label start with an underscore are ignored when legend() is called with no argument.\n"
     ]
    },
    {
     "data": {
      "text/plain": [
       "<matplotlib.legend.Legend at 0x7efc47240130>"
      ]
     },
     "execution_count": 17,
     "metadata": {},
     "output_type": "execute_result"
    },
    {
     "data": {
      "image/png": "[encoded data removed]",
      "text/plain": [
       "<Figure size 1500x1200 with 6 Axes>"
      ]
     },
     "metadata": {},
     "output_type": "display_data"
    }
   ],
   "source": [
    "X[numeric_cols].hist(figsize=(15,12))\n",
    "plt.legend()"
   ]
  },
  {
   "cell_type": "code",
   "execution_count": 18,
   "id": "aab7c0d9",
   "metadata": {},
   "outputs": [
    {
     "data": {
      "image/png": "[encoded data removed]",
      "text/plain": [
       "<Figure size 1200x1000 with 4 Axes>"
      ]
     },
     "metadata": {},
     "output_type": "display_data"
    }
   ],
   "source": [
    "fig,axarr=plt.subplots(2,2,figsize=(12,10))\n",
    "cnt=0\n",
    "for i in range(2):\n",
    "    for j in range(2):\n",
    "        sns.boxplot(x=numeric_cols[cnt],hue='churn',data=data,ax=axarr[i][j])\n",
    "        cnt=cnt+1"
   ]
  },
  {
   "cell_type": "markdown",
   "id": "3f1edaf7",
   "metadata": {},
   "source": [
    "creditscore  boxplot shows some outliers, let's see this"
   ]
  },
  {
   "cell_type": "code",
   "execution_count": 19,
   "id": "34c77df8",
   "metadata": {},
   "outputs": [
    {
     "name": "stderr",
     "output_type": "stream",
     "text": [
      "/home/boss/anaconda3/lib/python3.9/site-packages/seaborn/_decorators.py:36: FutureWarning: Pass the following variable as a keyword arg: x. From version 0.12, the only valid positional argument will be `data`, and passing other arguments without an explicit keyword will result in an error or misinterpretation.\n",
      "  warnings.warn(\n"
     ]
    },
    {
     "data": {
      "text/plain": [
       "<AxesSubplot:xlabel='credit_score'>"
      ]
     },
     "execution_count": 19,
     "metadata": {},
     "output_type": "execute_result"
    },
    {
     "data": {
      "image/png": "[encoded data removed]",
      "text/plain": [
       "<Figure size 640x480 with 1 Axes>"
      ]
     },
     "metadata": {},
     "output_type": "display_data"
    }
   ],
   "source": [
    "lower=data.credit_score.quantile(q=0.005)\n",
    "upper=data.credit_score.quantile(q=0.995)\n",
    "data['credit_score']=np.where(data['credit_score']>upper,upper,np.where(data['credit_score']<lower,lower,data['credit_score']))\n",
    "\n",
    "sns.boxplot(data['credit_score'])"
   ]
  },
  {
   "cell_type": "code",
   "execution_count": 20,
   "id": "37a0629d",
   "metadata": {},
   "outputs": [
    {
     "data": {
      "image/png": "[encoded data removed]",
      "text/plain": [
       "<Figure size 1200x1000 with 3 Axes>"
      ]
     },
     "metadata": {},
     "output_type": "display_data"
    }
   ],
   "source": [
    "list=['gender','credit_card','active_member']\n",
    "fig,axarr=plt.subplots(3,1,figsize=(12,10))\n",
    "cnt=0\n",
    "for i, category in enumerate(list):\n",
    "    sns.countplot(x=category, hue='churn', data=data, ax=axarr[i])\n",
    "    axarr[i].set_xlabel(category)\n",
    "    axarr[i].set_ylabel('Count')\n",
    "\n",
    "plt.tight_layout()\n",
    "plt.show()"
   ]
  },
  {
   "cell_type": "code",
   "execution_count": 21,
   "id": "3d10b917",
   "metadata": {},
   "outputs": [
    {
     "data": {
      "text/plain": [
       "<AxesSubplot:xlabel='churn', ylabel='estimated_salary'>"
      ]
     },
     "execution_count": 21,
     "metadata": {},
     "output_type": "execute_result"
    },
    {
     "data": {
      "image/png": "[encoded data removed]",
      "text/plain": [
       "<Figure size 2000x1200 with 6 Axes>"
      ]
     },
     "metadata": {},
     "output_type": "display_data"
    }
   ],
   "source": [
    "fig, axarr = plt.subplots(3, 2, figsize=(20, 12))\n",
    "sns.boxplot(y='credit_score',x = 'churn', hue = 'churn',data = data, ax=axarr[0][0])\n",
    "sns.boxplot(y='age',x = 'churn', hue = 'churn',data = data , ax=axarr[0][1])\n",
    "sns.boxplot(y='tenure',x = 'churn', hue = 'churn',data = data, ax=axarr[1][0])\n",
    "sns.boxplot(y='balance',x = 'churn', hue = 'churn',data = data, ax=axarr[1][1])\n",
    "sns.boxplot(y='products_number',x = 'churn', hue = 'churn',data = data, ax=axarr[2][0])\n",
    "sns.boxplot(y='estimated_salary',x = 'churn', hue = 'churn',data = data, ax=axarr[2][1])"
   ]
  },
  {
   "cell_type": "code",
   "execution_count": 22,
   "id": "04c9bfbf",
   "metadata": {},
   "outputs": [
    {
     "data": {
      "text/plain": [
       "products_number\n",
       "1     99487.256851\n",
       "2    100452.012821\n",
       "3    104318.130564\n",
       "4    104763.723333\n",
       "Name: estimated_salary, dtype: float64"
      ]
     },
     "execution_count": 22,
     "metadata": {},
     "output_type": "execute_result"
    }
   ],
   "source": [
    "data.groupby('products_number')['estimated_salary'].mean()"
   ]
  },
  {
   "cell_type": "code",
   "execution_count": 23,
   "id": "4944ea28",
   "metadata": {},
   "outputs": [
    {
     "name": "stdout",
     "output_type": "stream",
     "text": [
      "products_number       1       2      3     4\n",
      "churn                                       \n",
      "0                3675.0  4242.0   46.0   NaN\n",
      "1                1409.0   348.0  220.0  60.0\n"
     ]
    }
   ],
   "source": [
    "print(pd.pivot_table(data,index='churn',columns='products_number',values='customer_id',aggfunc='count'))"
   ]
  },
  {
   "cell_type": "markdown",
   "id": "a26cf072",
   "metadata": {},
   "source": [
    "\n",
    "# Feature engineering"
   ]
  },
  {
   "cell_type": "markdown",
   "id": "dd96ad31",
   "metadata": {},
   "source": [
    " Categorize customers into age groups (e.g., young, middle-aged, senior). This can help capture differences in behavior and risk across different age ranges."
   ]
  },
  {
   "cell_type": "code",
   "execution_count": 24,
   "id": "c5eee26e",
   "metadata": {},
   "outputs": [],
   "source": [
    "data['age_class'] = np.where(data['age'] <=35, 'young',\n",
    "                           np.where((data['age'] > 35) & (data['age'] < 55), 'middle_aged',\n",
    "                                     np.where((data['age'] >= 55), 'senior', data['age']\n",
    "                                              )\n",
    "                                        )\n",
    "                                    )\n",
    "                           \n",
    "                      \n"
   ]
  },
  {
   "cell_type": "code",
   "execution_count": 25,
   "id": "d6a8625e",
   "metadata": {},
   "outputs": [
    {
     "data": {
      "text/plain": [
       "middle_aged    4965\n",
       "young          4153\n",
       "senior          882\n",
       "Name: age_class, dtype: int64"
      ]
     },
     "execution_count": 25,
     "metadata": {},
     "output_type": "execute_result"
    }
   ],
   "source": [
    "data['age_class'].value_counts()"
   ]
  },
  {
   "cell_type": "code",
   "execution_count": 26,
   "id": "23c30c5b",
   "metadata": {},
   "outputs": [
    {
     "name": "stdout",
     "output_type": "stream",
     "text": [
      "age_class  middle_aged  senior  young\n",
      "churn                                \n",
      "0                 3617     540   3806\n",
      "1                 1348     342    347\n"
     ]
    }
   ],
   "source": [
    "print(pd.pivot_table(data,index='churn',columns='age_class',values='customer_id',aggfunc='count'))"
   ]
  },
  {
   "cell_type": "code",
   "execution_count": 27,
   "id": "5b31122f",
   "metadata": {},
   "outputs": [],
   "source": [
    "# data['seniority'] = np.where(data['tenure'] <=2,'new',\n",
    "#                            np.where((data['tenure'] >2) & (data['tenure'] <=6 ), 'intermediate',\n",
    "#                                      np.where((data['tenure'] >6 ), 'long-standing', data['tenure']\n",
    "#                                               )\n",
    "#                                         ))\n",
    "                            "
   ]
  },
  {
   "cell_type": "code",
   "execution_count": 28,
   "id": "255e1547",
   "metadata": {},
   "outputs": [],
   "source": [
    "# print(pd.pivot_table(data,index='churn',columns='seniority',values='customer_id',aggfunc='count'))"
   ]
  },
  {
   "cell_type": "code",
   "execution_count": 44,
   "id": "4db7c694",
   "metadata": {},
   "outputs": [
    {
     "name": "stdout",
     "output_type": "stream",
     "text": [
      "8500\n",
      "1500\n"
     ]
    }
   ],
   "source": [
    "data_train = data.sample(frac=0.85,random_state=41)\n",
    "data_test = data.drop(data_train.index)\n",
    "print(len(data_train))\n",
    "\n",
    "print(len(data_test))"
   ]
  },
  {
   "cell_type": "code",
   "execution_count": 45,
   "id": "320e82da",
   "metadata": {},
   "outputs": [
    {
     "data": {
      "text/html": [
       "<div>\n",
       "<style scoped>\n",
       "    .dataframe tbody tr th:only-of-type {\n",
       "        vertical-align: middle;\n",
       "    }\n",
       "\n",
       "    .dataframe tbody tr th {\n",
       "        vertical-align: top;\n",
       "    }\n",
       "\n",
       "    .dataframe thead th {\n",
       "        text-align: right;\n",
       "    }\n",
       "</style>\n",
       "<table border=\"1\" class=\"dataframe\">\n",
       "  <thead>\n",
       "    <tr style=\"text-align: right;\">\n",
       "      <th></th>\n",
       "      <th>customer_id</th>\n",
       "      <th>credit_score</th>\n",
       "      <th>gender</th>\n",
       "      <th>age</th>\n",
       "      <th>tenure</th>\n",
       "      <th>balance</th>\n",
       "      <th>products_number</th>\n",
       "      <th>credit_card</th>\n",
       "      <th>active_member</th>\n",
       "      <th>estimated_salary</th>\n",
       "      <th>churn</th>\n",
       "      <th>age_class</th>\n",
       "    </tr>\n",
       "  </thead>\n",
       "  <tbody>\n",
       "    <tr>\n",
       "      <th>0</th>\n",
       "      <td>15634602</td>\n",
       "      <td>619.0</td>\n",
       "      <td>Female</td>\n",
       "      <td>42</td>\n",
       "      <td>2</td>\n",
       "      <td>0.00</td>\n",
       "      <td>1</td>\n",
       "      <td>1</td>\n",
       "      <td>1</td>\n",
       "      <td>101348.88</td>\n",
       "      <td>1</td>\n",
       "      <td>middle_aged</td>\n",
       "    </tr>\n",
       "    <tr>\n",
       "      <th>3</th>\n",
       "      <td>15701354</td>\n",
       "      <td>699.0</td>\n",
       "      <td>Female</td>\n",
       "      <td>39</td>\n",
       "      <td>1</td>\n",
       "      <td>0.00</td>\n",
       "      <td>2</td>\n",
       "      <td>0</td>\n",
       "      <td>0</td>\n",
       "      <td>93826.63</td>\n",
       "      <td>0</td>\n",
       "      <td>middle_aged</td>\n",
       "    </tr>\n",
       "    <tr>\n",
       "      <th>12</th>\n",
       "      <td>15632264</td>\n",
       "      <td>476.0</td>\n",
       "      <td>Female</td>\n",
       "      <td>34</td>\n",
       "      <td>10</td>\n",
       "      <td>0.00</td>\n",
       "      <td>2</td>\n",
       "      <td>1</td>\n",
       "      <td>0</td>\n",
       "      <td>26260.98</td>\n",
       "      <td>0</td>\n",
       "      <td>young</td>\n",
       "    </tr>\n",
       "    <tr>\n",
       "      <th>26</th>\n",
       "      <td>15736816</td>\n",
       "      <td>756.0</td>\n",
       "      <td>Male</td>\n",
       "      <td>36</td>\n",
       "      <td>2</td>\n",
       "      <td>136815.64</td>\n",
       "      <td>1</td>\n",
       "      <td>1</td>\n",
       "      <td>1</td>\n",
       "      <td>170041.95</td>\n",
       "      <td>0</td>\n",
       "      <td>middle_aged</td>\n",
       "    </tr>\n",
       "    <tr>\n",
       "      <th>30</th>\n",
       "      <td>15589475</td>\n",
       "      <td>591.0</td>\n",
       "      <td>Female</td>\n",
       "      <td>39</td>\n",
       "      <td>3</td>\n",
       "      <td>0.00</td>\n",
       "      <td>3</td>\n",
       "      <td>1</td>\n",
       "      <td>0</td>\n",
       "      <td>140469.38</td>\n",
       "      <td>1</td>\n",
       "      <td>middle_aged</td>\n",
       "    </tr>\n",
       "    <tr>\n",
       "      <th>...</th>\n",
       "      <td>...</td>\n",
       "      <td>...</td>\n",
       "      <td>...</td>\n",
       "      <td>...</td>\n",
       "      <td>...</td>\n",
       "      <td>...</td>\n",
       "      <td>...</td>\n",
       "      <td>...</td>\n",
       "      <td>...</td>\n",
       "      <td>...</td>\n",
       "      <td>...</td>\n",
       "      <td>...</td>\n",
       "    </tr>\n",
       "    <tr>\n",
       "      <th>9945</th>\n",
       "      <td>15674000</td>\n",
       "      <td>645.0</td>\n",
       "      <td>Male</td>\n",
       "      <td>44</td>\n",
       "      <td>10</td>\n",
       "      <td>0.00</td>\n",
       "      <td>2</td>\n",
       "      <td>0</td>\n",
       "      <td>1</td>\n",
       "      <td>166707.22</td>\n",
       "      <td>0</td>\n",
       "      <td>middle_aged</td>\n",
       "    </tr>\n",
       "    <tr>\n",
       "      <th>9961</th>\n",
       "      <td>15566543</td>\n",
       "      <td>573.0</td>\n",
       "      <td>Male</td>\n",
       "      <td>44</td>\n",
       "      <td>9</td>\n",
       "      <td>0.00</td>\n",
       "      <td>2</td>\n",
       "      <td>1</td>\n",
       "      <td>0</td>\n",
       "      <td>107124.17</td>\n",
       "      <td>0</td>\n",
       "      <td>middle_aged</td>\n",
       "    </tr>\n",
       "    <tr>\n",
       "      <th>9970</th>\n",
       "      <td>15587133</td>\n",
       "      <td>518.0</td>\n",
       "      <td>Male</td>\n",
       "      <td>42</td>\n",
       "      <td>7</td>\n",
       "      <td>151027.05</td>\n",
       "      <td>2</td>\n",
       "      <td>1</td>\n",
       "      <td>0</td>\n",
       "      <td>119377.36</td>\n",
       "      <td>0</td>\n",
       "      <td>middle_aged</td>\n",
       "    </tr>\n",
       "    <tr>\n",
       "      <th>9972</th>\n",
       "      <td>15747927</td>\n",
       "      <td>758.0</td>\n",
       "      <td>Male</td>\n",
       "      <td>26</td>\n",
       "      <td>4</td>\n",
       "      <td>155739.76</td>\n",
       "      <td>1</td>\n",
       "      <td>1</td>\n",
       "      <td>0</td>\n",
       "      <td>171552.02</td>\n",
       "      <td>0</td>\n",
       "      <td>young</td>\n",
       "    </tr>\n",
       "    <tr>\n",
       "      <th>9995</th>\n",
       "      <td>15606229</td>\n",
       "      <td>771.0</td>\n",
       "      <td>Male</td>\n",
       "      <td>39</td>\n",
       "      <td>5</td>\n",
       "      <td>0.00</td>\n",
       "      <td>2</td>\n",
       "      <td>1</td>\n",
       "      <td>0</td>\n",
       "      <td>96270.64</td>\n",
       "      <td>0</td>\n",
       "      <td>middle_aged</td>\n",
       "    </tr>\n",
       "  </tbody>\n",
       "</table>\n",
       "<p>1500 rows × 12 columns</p>\n",
       "</div>"
      ],
      "text/plain": [
       "      customer_id  credit_score  gender  age  tenure    balance  \\\n",
       "0        15634602         619.0  Female   42       2       0.00   \n",
       "3        15701354         699.0  Female   39       1       0.00   \n",
       "12       15632264         476.0  Female   34      10       0.00   \n",
       "26       15736816         756.0    Male   36       2  136815.64   \n",
       "30       15589475         591.0  Female   39       3       0.00   \n",
       "...           ...           ...     ...  ...     ...        ...   \n",
       "9945     15674000         645.0    Male   44      10       0.00   \n",
       "9961     15566543         573.0    Male   44       9       0.00   \n",
       "9970     15587133         518.0    Male   42       7  151027.05   \n",
       "9972     15747927         758.0    Male   26       4  155739.76   \n",
       "9995     15606229         771.0    Male   39       5       0.00   \n",
       "\n",
       "      products_number  credit_card  active_member  estimated_salary  churn  \\\n",
       "0                   1            1              1         101348.88      1   \n",
       "3                   2            0              0          93826.63      0   \n",
       "12                  2            1              0          26260.98      0   \n",
       "26                  1            1              1         170041.95      0   \n",
       "30                  3            1              0         140469.38      1   \n",
       "...               ...          ...            ...               ...    ...   \n",
       "9945                2            0              1         166707.22      0   \n",
       "9961                2            1              0         107124.17      0   \n",
       "9970                2            1              0         119377.36      0   \n",
       "9972                1            1              0         171552.02      0   \n",
       "9995                2            1              0          96270.64      0   \n",
       "\n",
       "        age_class  \n",
       "0     middle_aged  \n",
       "3     middle_aged  \n",
       "12          young  \n",
       "26    middle_aged  \n",
       "30    middle_aged  \n",
       "...           ...  \n",
       "9945  middle_aged  \n",
       "9961  middle_aged  \n",
       "9970  middle_aged  \n",
       "9972        young  \n",
       "9995  middle_aged  \n",
       "\n",
       "[1500 rows x 12 columns]"
      ]
     },
     "execution_count": 45,
     "metadata": {},
     "output_type": "execute_result"
    }
   ],
   "source": [
    "data_test"
   ]
  },
  {
   "cell_type": "code",
   "execution_count": 46,
   "id": "3cb1043b",
   "metadata": {},
   "outputs": [],
   "source": [
    "# data_train['balance_salaryRatio'] = data_train.balance/data_train.estimated_salary\n",
    "# sns.boxplot(y='balance_salaryRatio',x = 'churn', hue = 'churn',data = data_train)\n",
    "# plt.ylim(-1, 5)"
   ]
  },
  {
   "cell_type": "code",
   "execution_count": 47,
   "id": "78183dbe",
   "metadata": {},
   "outputs": [
    {
     "name": "stdout",
     "output_type": "stream",
     "text": [
      "age_class  middle_aged  senior  young\n",
      "churn                                \n",
      "0                 3617     540   3806\n",
      "1                 1348     342    347\n"
     ]
    }
   ],
   "source": [
    "print(pd.pivot_table(data,index='churn',columns='age_class',values='customer_id',aggfunc='count'))"
   ]
  },
  {
   "cell_type": "markdown",
   "id": "764d7da6",
   "metadata": {},
   "source": [
    "we saw that the salary has little effect on the probability of a customer churning. However as seen above, the ratio of the bank balance and the estimated salary indicates that customers with a higher balance salary ratio churn more."
   ]
  },
  {
   "cell_type": "code",
   "execution_count": 48,
   "id": "752d5b32",
   "metadata": {},
   "outputs": [
    {
     "data": {
      "image/png": "[encoded data removed]",
      "text/plain": [
       "<Figure size 640x480 with 1 Axes>"
      ]
     },
     "metadata": {},
     "output_type": "display_data"
    }
   ],
   "source": [
    "data_train['TenureByAge'] = data_train.tenure/(data_train.age)\n",
    "sns.boxplot(y='TenureByAge',x = 'churn', hue = 'churn',data = data_train)\n",
    "plt.ylim(-1, 1)\n",
    "plt.show()\n",
    "\n"
   ]
  },
  {
   "cell_type": "code",
   "execution_count": 49,
   "id": "014d2a64",
   "metadata": {},
   "outputs": [
    {
     "name": "stderr",
     "output_type": "stream",
     "text": [
      "/home/boss/anaconda3/lib/python3.9/site-packages/seaborn/distributions.py:2619: FutureWarning: `distplot` is a deprecated function and will be removed in a future version. Please adapt your code to use either `displot` (a figure-level function with similar flexibility) or `histplot` (an axes-level function for histograms).\n",
      "  warnings.warn(msg, FutureWarning)\n"
     ]
    },
    {
     "data": {
      "text/plain": [
       "<AxesSubplot:xlabel='TenureByAge', ylabel='Density'>"
      ]
     },
     "execution_count": 49,
     "metadata": {},
     "output_type": "execute_result"
    },
    {
     "data": {
      "image/png": "[encoded data removed]",
      "text/plain": [
       "<Figure size 640x480 with 1 Axes>"
      ]
     },
     "metadata": {},
     "output_type": "display_data"
    }
   ],
   "source": [
    "sns.distplot(data_train['TenureByAge'])"
   ]
  },
  {
   "cell_type": "markdown",
   "id": "317a2d37",
   "metadata": {},
   "source": [
    "Given that tenure is a 'function' of age, we introduce a variable aiming to standardize tenure over age:"
   ]
  },
  {
   "cell_type": "code",
   "execution_count": 50,
   "id": "acd793e0",
   "metadata": {},
   "outputs": [],
   "source": [
    "data_train['CreditScoreGivenAge'] = data_train.credit_score/(data_train.age)"
   ]
  },
  {
   "cell_type": "code",
   "execution_count": 51,
   "id": "48c23791",
   "metadata": {},
   "outputs": [
    {
     "data": {
      "text/plain": [
       "<AxesSubplot:xlabel='churn', ylabel='CreditScoreGivenAge'>"
      ]
     },
     "execution_count": 51,
     "metadata": {},
     "output_type": "execute_result"
    },
    {
     "data": {
      "image/png": "[encoded data removed]",
      "text/plain": [
       "<Figure size 640x480 with 1 Axes>"
      ]
     },
     "metadata": {},
     "output_type": "display_data"
    }
   ],
   "source": [
    "sns.boxplot(y='CreditScoreGivenAge',x='churn',hue='churn',data=data_train)"
   ]
  },
  {
   "cell_type": "markdown",
   "id": "9612a084",
   "metadata": {},
   "source": [
    "\n",
    "Lastly we introduce a variable to capture credit score given age to take into account credit behavior"
   ]
  },
  {
   "cell_type": "code",
   "execution_count": 52,
   "id": "0cfdf5fc",
   "metadata": {},
   "outputs": [
    {
     "data": {
      "text/plain": [
       "Index(['customer_id', 'credit_score', 'gender', 'age', 'tenure', 'balance',\n",
       "       'products_number', 'credit_card', 'active_member', 'estimated_salary',\n",
       "       'churn', 'age_class', 'TenureByAge', 'CreditScoreGivenAge'],\n",
       "      dtype='object')"
      ]
     },
     "execution_count": 52,
     "metadata": {},
     "output_type": "execute_result"
    }
   ],
   "source": [
    "data_train.head().columns"
   ]
  },
  {
   "cell_type": "code",
   "execution_count": 53,
   "id": "82d76e5a",
   "metadata": {},
   "outputs": [
    {
     "data": {
      "text/html": [
       "<div>\n",
       "<style scoped>\n",
       "    .dataframe tbody tr th:only-of-type {\n",
       "        vertical-align: middle;\n",
       "    }\n",
       "\n",
       "    .dataframe tbody tr th {\n",
       "        vertical-align: top;\n",
       "    }\n",
       "\n",
       "    .dataframe thead th {\n",
       "        text-align: right;\n",
       "    }\n",
       "</style>\n",
       "<table border=\"1\" class=\"dataframe\">\n",
       "  <thead>\n",
       "    <tr style=\"text-align: right;\">\n",
       "      <th></th>\n",
       "      <th>churn</th>\n",
       "      <th>credit_score</th>\n",
       "      <th>age</th>\n",
       "      <th>tenure</th>\n",
       "      <th>balance</th>\n",
       "      <th>products_number</th>\n",
       "      <th>estimated_salary</th>\n",
       "      <th>TenureByAge</th>\n",
       "      <th>CreditScoreGivenAge</th>\n",
       "      <th>credit_card</th>\n",
       "      <th>active_member</th>\n",
       "      <th>gender</th>\n",
       "      <th>age_class</th>\n",
       "    </tr>\n",
       "  </thead>\n",
       "  <tbody>\n",
       "    <tr>\n",
       "      <th>9745</th>\n",
       "      <td>0</td>\n",
       "      <td>818.0</td>\n",
       "      <td>36</td>\n",
       "      <td>4</td>\n",
       "      <td>0.00</td>\n",
       "      <td>2</td>\n",
       "      <td>8037.03</td>\n",
       "      <td>0.111111</td>\n",
       "      <td>22.722222</td>\n",
       "      <td>1</td>\n",
       "      <td>1</td>\n",
       "      <td>Male</td>\n",
       "      <td>middle_aged</td>\n",
       "    </tr>\n",
       "    <tr>\n",
       "      <th>4492</th>\n",
       "      <td>0</td>\n",
       "      <td>590.0</td>\n",
       "      <td>32</td>\n",
       "      <td>0</td>\n",
       "      <td>127763.24</td>\n",
       "      <td>1</td>\n",
       "      <td>100717.54</td>\n",
       "      <td>0.000000</td>\n",
       "      <td>18.437500</td>\n",
       "      <td>1</td>\n",
       "      <td>0</td>\n",
       "      <td>Female</td>\n",
       "      <td>young</td>\n",
       "    </tr>\n",
       "    <tr>\n",
       "      <th>3439</th>\n",
       "      <td>0</td>\n",
       "      <td>746.0</td>\n",
       "      <td>36</td>\n",
       "      <td>7</td>\n",
       "      <td>142400.77</td>\n",
       "      <td>1</td>\n",
       "      <td>193438.69</td>\n",
       "      <td>0.194444</td>\n",
       "      <td>20.722222</td>\n",
       "      <td>1</td>\n",
       "      <td>1</td>\n",
       "      <td>Male</td>\n",
       "      <td>middle_aged</td>\n",
       "    </tr>\n",
       "    <tr>\n",
       "      <th>6077</th>\n",
       "      <td>0</td>\n",
       "      <td>660.0</td>\n",
       "      <td>37</td>\n",
       "      <td>2</td>\n",
       "      <td>133200.09</td>\n",
       "      <td>1</td>\n",
       "      <td>71433.88</td>\n",
       "      <td>0.054054</td>\n",
       "      <td>17.837838</td>\n",
       "      <td>0</td>\n",
       "      <td>0</td>\n",
       "      <td>Female</td>\n",
       "      <td>middle_aged</td>\n",
       "    </tr>\n",
       "    <tr>\n",
       "      <th>5372</th>\n",
       "      <td>0</td>\n",
       "      <td>598.0</td>\n",
       "      <td>39</td>\n",
       "      <td>5</td>\n",
       "      <td>0.00</td>\n",
       "      <td>2</td>\n",
       "      <td>83103.46</td>\n",
       "      <td>0.128205</td>\n",
       "      <td>15.333333</td>\n",
       "      <td>1</td>\n",
       "      <td>1</td>\n",
       "      <td>Female</td>\n",
       "      <td>middle_aged</td>\n",
       "    </tr>\n",
       "  </tbody>\n",
       "</table>\n",
       "</div>"
      ],
      "text/plain": [
       "      churn  credit_score  age  tenure    balance  products_number  \\\n",
       "9745      0         818.0   36       4       0.00                2   \n",
       "4492      0         590.0   32       0  127763.24                1   \n",
       "3439      0         746.0   36       7  142400.77                1   \n",
       "6077      0         660.0   37       2  133200.09                1   \n",
       "5372      0         598.0   39       5       0.00                2   \n",
       "\n",
       "      estimated_salary  TenureByAge  CreditScoreGivenAge  credit_card  \\\n",
       "9745           8037.03     0.111111            22.722222            1   \n",
       "4492         100717.54     0.000000            18.437500            1   \n",
       "3439         193438.69     0.194444            20.722222            1   \n",
       "6077          71433.88     0.054054            17.837838            0   \n",
       "5372          83103.46     0.128205            15.333333            1   \n",
       "\n",
       "      active_member  gender    age_class  \n",
       "9745              1    Male  middle_aged  \n",
       "4492              0  Female        young  \n",
       "3439              1    Male  middle_aged  \n",
       "6077              0  Female  middle_aged  \n",
       "5372              1  Female  middle_aged  "
      ]
     },
     "execution_count": 53,
     "metadata": {},
     "output_type": "execute_result"
    }
   ],
   "source": [
    "# numeric_cols=['credit_score','age','tenure','balance','products_number','estimated_salary','balance_salaryRatio','TenureByAge','CreditScoreGivenAge']\n",
    "# categorical_cols=['credit_card','active_member','country','gender','age_class','seniority']\n",
    "numeric_cols=['credit_score','age','tenure','balance','products_number','estimated_salary','TenureByAge','CreditScoreGivenAge']\n",
    "# categorical_cols=['credit_card','active_member','gender','age_class','seniority']\n",
    "categorical_cols=['credit_card','active_member','gender','age_class']\n",
    "data_train = data_train[['churn'] + numeric_cols + categorical_cols]\n",
    "data_train.head()"
   ]
  },
  {
   "cell_type": "markdown",
   "id": "d283a8d4",
   "metadata": {},
   "source": [
    "For the one hot variables, we change 0 to -1 so that the models can capture a negative relation \n",
    "where the attribute in inapplicable instead of 0"
   ]
  },
  {
   "cell_type": "code",
   "execution_count": 54,
   "id": "d2dea154",
   "metadata": {},
   "outputs": [
    {
     "data": {
      "text/html": [
       "<div>\n",
       "<style scoped>\n",
       "    .dataframe tbody tr th:only-of-type {\n",
       "        vertical-align: middle;\n",
       "    }\n",
       "\n",
       "    .dataframe tbody tr th {\n",
       "        vertical-align: top;\n",
       "    }\n",
       "\n",
       "    .dataframe thead th {\n",
       "        text-align: right;\n",
       "    }\n",
       "</style>\n",
       "<table border=\"1\" class=\"dataframe\">\n",
       "  <thead>\n",
       "    <tr style=\"text-align: right;\">\n",
       "      <th></th>\n",
       "      <th>churn</th>\n",
       "      <th>credit_score</th>\n",
       "      <th>age</th>\n",
       "      <th>tenure</th>\n",
       "      <th>balance</th>\n",
       "      <th>products_number</th>\n",
       "      <th>estimated_salary</th>\n",
       "      <th>TenureByAge</th>\n",
       "      <th>CreditScoreGivenAge</th>\n",
       "      <th>credit_card</th>\n",
       "      <th>active_member</th>\n",
       "      <th>gender</th>\n",
       "      <th>age_class</th>\n",
       "    </tr>\n",
       "  </thead>\n",
       "  <tbody>\n",
       "    <tr>\n",
       "      <th>9745</th>\n",
       "      <td>0</td>\n",
       "      <td>818.0</td>\n",
       "      <td>36</td>\n",
       "      <td>4</td>\n",
       "      <td>0.00</td>\n",
       "      <td>2</td>\n",
       "      <td>8037.03</td>\n",
       "      <td>0.111111</td>\n",
       "      <td>22.722222</td>\n",
       "      <td>1</td>\n",
       "      <td>1</td>\n",
       "      <td>Male</td>\n",
       "      <td>middle_aged</td>\n",
       "    </tr>\n",
       "    <tr>\n",
       "      <th>4492</th>\n",
       "      <td>0</td>\n",
       "      <td>590.0</td>\n",
       "      <td>32</td>\n",
       "      <td>0</td>\n",
       "      <td>127763.24</td>\n",
       "      <td>1</td>\n",
       "      <td>100717.54</td>\n",
       "      <td>0.000000</td>\n",
       "      <td>18.437500</td>\n",
       "      <td>1</td>\n",
       "      <td>-1</td>\n",
       "      <td>Female</td>\n",
       "      <td>young</td>\n",
       "    </tr>\n",
       "    <tr>\n",
       "      <th>3439</th>\n",
       "      <td>0</td>\n",
       "      <td>746.0</td>\n",
       "      <td>36</td>\n",
       "      <td>7</td>\n",
       "      <td>142400.77</td>\n",
       "      <td>1</td>\n",
       "      <td>193438.69</td>\n",
       "      <td>0.194444</td>\n",
       "      <td>20.722222</td>\n",
       "      <td>1</td>\n",
       "      <td>1</td>\n",
       "      <td>Male</td>\n",
       "      <td>middle_aged</td>\n",
       "    </tr>\n",
       "    <tr>\n",
       "      <th>6077</th>\n",
       "      <td>0</td>\n",
       "      <td>660.0</td>\n",
       "      <td>37</td>\n",
       "      <td>2</td>\n",
       "      <td>133200.09</td>\n",
       "      <td>1</td>\n",
       "      <td>71433.88</td>\n",
       "      <td>0.054054</td>\n",
       "      <td>17.837838</td>\n",
       "      <td>-1</td>\n",
       "      <td>-1</td>\n",
       "      <td>Female</td>\n",
       "      <td>middle_aged</td>\n",
       "    </tr>\n",
       "    <tr>\n",
       "      <th>5372</th>\n",
       "      <td>0</td>\n",
       "      <td>598.0</td>\n",
       "      <td>39</td>\n",
       "      <td>5</td>\n",
       "      <td>0.00</td>\n",
       "      <td>2</td>\n",
       "      <td>83103.46</td>\n",
       "      <td>0.128205</td>\n",
       "      <td>15.333333</td>\n",
       "      <td>1</td>\n",
       "      <td>1</td>\n",
       "      <td>Female</td>\n",
       "      <td>middle_aged</td>\n",
       "    </tr>\n",
       "  </tbody>\n",
       "</table>\n",
       "</div>"
      ],
      "text/plain": [
       "      churn  credit_score  age  tenure    balance  products_number  \\\n",
       "9745      0         818.0   36       4       0.00                2   \n",
       "4492      0         590.0   32       0  127763.24                1   \n",
       "3439      0         746.0   36       7  142400.77                1   \n",
       "6077      0         660.0   37       2  133200.09                1   \n",
       "5372      0         598.0   39       5       0.00                2   \n",
       "\n",
       "      estimated_salary  TenureByAge  CreditScoreGivenAge  credit_card  \\\n",
       "9745           8037.03     0.111111            22.722222            1   \n",
       "4492         100717.54     0.000000            18.437500            1   \n",
       "3439         193438.69     0.194444            20.722222            1   \n",
       "6077          71433.88     0.054054            17.837838           -1   \n",
       "5372          83103.46     0.128205            15.333333            1   \n",
       "\n",
       "      active_member  gender    age_class  \n",
       "9745              1    Male  middle_aged  \n",
       "4492             -1  Female        young  \n",
       "3439              1    Male  middle_aged  \n",
       "6077             -1  Female  middle_aged  \n",
       "5372              1  Female  middle_aged  "
      ]
     },
     "execution_count": 54,
     "metadata": {},
     "output_type": "execute_result"
    }
   ],
   "source": [
    "data_train.loc[data_train.credit_card == 0, 'credit_card'] = -1\n",
    "data_train.loc[data_train.active_member == 0, 'active_member'] = -1\n",
    "data_train.head()"
   ]
  },
  {
   "cell_type": "code",
   "execution_count": 55,
   "id": "fde4cc71",
   "metadata": {},
   "outputs": [
    {
     "data": {
      "text/html": [
       "<div>\n",
       "<style scoped>\n",
       "    .dataframe tbody tr th:only-of-type {\n",
       "        vertical-align: middle;\n",
       "    }\n",
       "\n",
       "    .dataframe tbody tr th {\n",
       "        vertical-align: top;\n",
       "    }\n",
       "\n",
       "    .dataframe thead th {\n",
       "        text-align: right;\n",
       "    }\n",
       "</style>\n",
       "<table border=\"1\" class=\"dataframe\">\n",
       "  <thead>\n",
       "    <tr style=\"text-align: right;\">\n",
       "      <th></th>\n",
       "      <th>churn</th>\n",
       "      <th>credit_score</th>\n",
       "      <th>age</th>\n",
       "      <th>tenure</th>\n",
       "      <th>balance</th>\n",
       "      <th>products_number</th>\n",
       "      <th>estimated_salary</th>\n",
       "      <th>TenureByAge</th>\n",
       "      <th>CreditScoreGivenAge</th>\n",
       "      <th>credit_card</th>\n",
       "      <th>active_member</th>\n",
       "      <th>gender_Male</th>\n",
       "      <th>gender_Female</th>\n",
       "      <th>age_class_middle_aged</th>\n",
       "      <th>age_class_young</th>\n",
       "      <th>age_class_senior</th>\n",
       "    </tr>\n",
       "  </thead>\n",
       "  <tbody>\n",
       "    <tr>\n",
       "      <th>9745</th>\n",
       "      <td>0</td>\n",
       "      <td>818.0</td>\n",
       "      <td>36</td>\n",
       "      <td>4</td>\n",
       "      <td>0.00</td>\n",
       "      <td>2</td>\n",
       "      <td>8037.03</td>\n",
       "      <td>0.111111</td>\n",
       "      <td>22.722222</td>\n",
       "      <td>1</td>\n",
       "      <td>1</td>\n",
       "      <td>1</td>\n",
       "      <td>-1</td>\n",
       "      <td>1</td>\n",
       "      <td>-1</td>\n",
       "      <td>-1</td>\n",
       "    </tr>\n",
       "    <tr>\n",
       "      <th>4492</th>\n",
       "      <td>0</td>\n",
       "      <td>590.0</td>\n",
       "      <td>32</td>\n",
       "      <td>0</td>\n",
       "      <td>127763.24</td>\n",
       "      <td>1</td>\n",
       "      <td>100717.54</td>\n",
       "      <td>0.000000</td>\n",
       "      <td>18.437500</td>\n",
       "      <td>1</td>\n",
       "      <td>-1</td>\n",
       "      <td>-1</td>\n",
       "      <td>1</td>\n",
       "      <td>-1</td>\n",
       "      <td>1</td>\n",
       "      <td>-1</td>\n",
       "    </tr>\n",
       "    <tr>\n",
       "      <th>3439</th>\n",
       "      <td>0</td>\n",
       "      <td>746.0</td>\n",
       "      <td>36</td>\n",
       "      <td>7</td>\n",
       "      <td>142400.77</td>\n",
       "      <td>1</td>\n",
       "      <td>193438.69</td>\n",
       "      <td>0.194444</td>\n",
       "      <td>20.722222</td>\n",
       "      <td>1</td>\n",
       "      <td>1</td>\n",
       "      <td>1</td>\n",
       "      <td>-1</td>\n",
       "      <td>1</td>\n",
       "      <td>-1</td>\n",
       "      <td>-1</td>\n",
       "    </tr>\n",
       "    <tr>\n",
       "      <th>6077</th>\n",
       "      <td>0</td>\n",
       "      <td>660.0</td>\n",
       "      <td>37</td>\n",
       "      <td>2</td>\n",
       "      <td>133200.09</td>\n",
       "      <td>1</td>\n",
       "      <td>71433.88</td>\n",
       "      <td>0.054054</td>\n",
       "      <td>17.837838</td>\n",
       "      <td>-1</td>\n",
       "      <td>-1</td>\n",
       "      <td>-1</td>\n",
       "      <td>1</td>\n",
       "      <td>1</td>\n",
       "      <td>-1</td>\n",
       "      <td>-1</td>\n",
       "    </tr>\n",
       "    <tr>\n",
       "      <th>5372</th>\n",
       "      <td>0</td>\n",
       "      <td>598.0</td>\n",
       "      <td>39</td>\n",
       "      <td>5</td>\n",
       "      <td>0.00</td>\n",
       "      <td>2</td>\n",
       "      <td>83103.46</td>\n",
       "      <td>0.128205</td>\n",
       "      <td>15.333333</td>\n",
       "      <td>1</td>\n",
       "      <td>1</td>\n",
       "      <td>-1</td>\n",
       "      <td>1</td>\n",
       "      <td>1</td>\n",
       "      <td>-1</td>\n",
       "      <td>-1</td>\n",
       "    </tr>\n",
       "  </tbody>\n",
       "</table>\n",
       "</div>"
      ],
      "text/plain": [
       "      churn  credit_score  age  tenure    balance  products_number  \\\n",
       "9745      0         818.0   36       4       0.00                2   \n",
       "4492      0         590.0   32       0  127763.24                1   \n",
       "3439      0         746.0   36       7  142400.77                1   \n",
       "6077      0         660.0   37       2  133200.09                1   \n",
       "5372      0         598.0   39       5       0.00                2   \n",
       "\n",
       "      estimated_salary  TenureByAge  CreditScoreGivenAge  credit_card  \\\n",
       "9745           8037.03     0.111111            22.722222            1   \n",
       "4492         100717.54     0.000000            18.437500            1   \n",
       "3439         193438.69     0.194444            20.722222            1   \n",
       "6077          71433.88     0.054054            17.837838           -1   \n",
       "5372          83103.46     0.128205            15.333333            1   \n",
       "\n",
       "      active_member  gender_Male  gender_Female  age_class_middle_aged  \\\n",
       "9745              1            1             -1                      1   \n",
       "4492             -1           -1              1                     -1   \n",
       "3439              1            1             -1                      1   \n",
       "6077             -1           -1              1                      1   \n",
       "5372              1           -1              1                      1   \n",
       "\n",
       "      age_class_young  age_class_senior  \n",
       "9745               -1                -1  \n",
       "4492                1                -1  \n",
       "3439               -1                -1  \n",
       "6077               -1                -1  \n",
       "5372               -1                -1  "
      ]
     },
     "execution_count": 55,
     "metadata": {},
     "output_type": "execute_result"
    }
   ],
   "source": [
    "remove =[]\n",
    "for i in categorical_cols:\n",
    "    if (data_train[i].dtype == 'str' or data_train[i].dtype == 'object'):\n",
    "        for j in data_train[i].unique():\n",
    "            data_train[i+'_'+j] = np.where(data_train[i] == j,1,-1)\n",
    "        remove.append(i)\n",
    "data_train = data_train.drop(remove, axis=1)\n",
    "data_train.head()\n"
   ]
  },
  {
   "cell_type": "code",
   "execution_count": 56,
   "id": "64d5a7a7",
   "metadata": {},
   "outputs": [],
   "source": [
    "# minVec = data_train[numeric_cols].min().copy()\n",
    "# maxVec = data_train[numeric_cols].max().copy()\n",
    "# data_train[numeric_cols] = (data_train[numeric_cols]-minVec)/(maxVec-minVec)\n",
    "# data_train.columns\n",
    "\n",
    "from sklearn.preprocessing import MinMaxScaler\n",
    "# Initialize the Min-Max scaler\n",
    "scaler = MinMaxScaler()\n",
    "\n",
    "# Fit and transform the data using the scaler\n",
    "scaler.fit(data_train[numeric_cols])\n",
    "data_train[numeric_cols]= scaler.transform(data_train[numeric_cols])\n",
    "# scaled_data now contains the scaled values\n",
    "\n"
   ]
  },
  {
   "cell_type": "code",
   "execution_count": 57,
   "id": "96ad4c13",
   "metadata": {},
   "outputs": [
    {
     "data": {
      "text/plain": [
       "Index(['churn', 'credit_score', 'age', 'tenure', 'balance', 'products_number',\n",
       "       'estimated_salary', 'TenureByAge', 'CreditScoreGivenAge', 'credit_card',\n",
       "       'active_member', 'gender_Male', 'gender_Female',\n",
       "       'age_class_middle_aged', 'age_class_young', 'age_class_senior'],\n",
       "      dtype='object')"
      ]
     },
     "execution_count": 57,
     "metadata": {},
     "output_type": "execute_result"
    }
   ],
   "source": [
    "data_train.columns\n"
   ]
  },
  {
   "cell_type": "code",
   "execution_count": 58,
   "id": "4dc9dc23",
   "metadata": {},
   "outputs": [
    {
     "name": "stdout",
     "output_type": "stream",
     "text": [
      "[set()]\n"
     ]
    }
   ],
   "source": [
    "# data prep pipeline for test data\n",
    "def dataTestPipeline(df_predict,df_train_Cols):\n",
    "\n",
    "#     df_predict['balance_salaryRatio'] = df_predict.balance/df_predict.estimated_salary\n",
    "    df_predict['TenureByAge'] = df_predict.tenure/(df_predict.age)\n",
    "    df_predict['CreditScoreGivenAge'] = df_predict.credit_score/(df_predict.age)\n",
    "\n",
    "#     continuous_vars = ['credit_score','age','tenure','balance','products_number','estimated_salary','balance_salaryRatio',\n",
    "#                    'TenureByAge','CreditScoreGivenAge']\n",
    "#     cat_vars = ['credit_card','active_member',\"country\", \"gender\",\"age_class\",\"seniority\"]\n",
    "    continuous_vars = ['credit_score','age','tenure','balance','products_number','estimated_salary',\n",
    "                   'TenureByAge','CreditScoreGivenAge']\n",
    "#     cat_vars = ['credit_card','active_member', \"gender\",\"age_class\",\"seniority\"]\n",
    "    cat_vars = ['credit_card','active_member', \"gender\",\"age_class\"]\n",
    "\n",
    "    df_predict = df_predict[['churn'] + continuous_vars + cat_vars]\n",
    "    # Change the 0 in categorical variables to -1\n",
    "    df_predict.loc[df_predict.credit_card == 0, 'HasCrCard'] = -1\n",
    "    df_predict.loc[df_predict.active_member == 0, 'IsActiveMember'] = -1\n",
    "    # One hot encode the categorical variables\n",
    "#     lst = [ \"gender\",\"age_class\",\"seniority\"]\n",
    "    lst = [ \"gender\",\"age_class\"]\n",
    "    remove = []\n",
    "    for i in lst:\n",
    "        for j in df_predict[i].unique():\n",
    "            df_predict[i+'_'+j] = np.where(df_predict[i] == j,1,-1)\n",
    "        remove.append(i)\n",
    "    df_predict = df_predict.drop(remove, axis=1)\n",
    "#     # Ensure that all one hot encoded variables that appear in the train data appear in the subsequent data\n",
    "    L = [set(df_train_Cols) - set(df_predict.columns)]\n",
    "    print(L)\n",
    "    for l in L:\n",
    "        df_predict[str(l)] = -1        \n",
    "\n",
    "#     df_predict[continuous_vars] = (df_predict[continuous_vars]-minVec)/(maxVec-minVec)\n",
    "    df_predict[continuous_vars] =scaler.transform(df_predict[continuous_vars])\n",
    "\n",
    "    df_predict = df_predict[df_train_Cols]\n",
    "    return df_predict\n",
    "\n",
    "data_test = dataTestPipeline(data_test,data_train.columns)"
   ]
  },
  {
   "cell_type": "code",
   "execution_count": 59,
   "id": "5a229e77",
   "metadata": {},
   "outputs": [
    {
     "data": {
      "text/plain": [
       "array([418.        ,  18.        ,   0.        ,   0.        ,\n",
       "         1.        ,  11.58      ,   0.        ,   4.97619048])"
      ]
     },
     "execution_count": 59,
     "metadata": {},
     "output_type": "execute_result"
    }
   ],
   "source": [
    "# import joblib\n",
    "\n",
    "# joblib.dump(scaler, 'your_scaler.pkl')\n",
    "scaler.data_min_"
   ]
  },
  {
   "cell_type": "code",
   "execution_count": 48,
   "id": "46cf234c",
   "metadata": {},
   "outputs": [
    {
     "data": {
      "text/plain": [
       "churn                    0.000000\n",
       "credit_score             0.000000\n",
       "age                      0.000000\n",
       "tenure                   0.000000\n",
       "balance                  0.000000\n",
       "products_number          0.000000\n",
       "estimated_salary         0.000392\n",
       "TenureByAge              0.000000\n",
       "CreditScoreGivenAge      0.020360\n",
       "credit_card              0.000000\n",
       "active_member            0.000000\n",
       "gender_Male             -1.000000\n",
       "gender_Female           -1.000000\n",
       "age_class_middle_aged   -1.000000\n",
       "age_class_young         -1.000000\n",
       "age_class_senior        -1.000000\n",
       "dtype: float64"
      ]
     },
     "execution_count": 48,
     "metadata": {},
     "output_type": "execute_result"
    }
   ],
   "source": [
    "# data_test = dataTestPipeline(data_test,data_train.columns,minVec,maxVec)\n",
    "# data_test = data_test.mask(np.isinf(data_test))\n",
    "# data_test = data_test.dropna()\n",
    "data_test.min()\n"
   ]
  },
  {
   "cell_type": "code",
   "execution_count": 60,
   "id": "6e30abc9",
   "metadata": {},
   "outputs": [
    {
     "data": {
      "text/html": [
       "<div>\n",
       "<style scoped>\n",
       "    .dataframe tbody tr th:only-of-type {\n",
       "        vertical-align: middle;\n",
       "    }\n",
       "\n",
       "    .dataframe tbody tr th {\n",
       "        vertical-align: top;\n",
       "    }\n",
       "\n",
       "    .dataframe thead th {\n",
       "        text-align: right;\n",
       "    }\n",
       "</style>\n",
       "<table border=\"1\" class=\"dataframe\">\n",
       "  <thead>\n",
       "    <tr style=\"text-align: right;\">\n",
       "      <th></th>\n",
       "      <th>churn</th>\n",
       "      <th>credit_score</th>\n",
       "      <th>age</th>\n",
       "      <th>tenure</th>\n",
       "      <th>balance</th>\n",
       "      <th>products_number</th>\n",
       "      <th>estimated_salary</th>\n",
       "      <th>TenureByAge</th>\n",
       "      <th>CreditScoreGivenAge</th>\n",
       "      <th>credit_card</th>\n",
       "      <th>active_member</th>\n",
       "      <th>gender_Male</th>\n",
       "      <th>gender_Female</th>\n",
       "      <th>age_class_middle_aged</th>\n",
       "      <th>age_class_young</th>\n",
       "      <th>age_class_senior</th>\n",
       "    </tr>\n",
       "  </thead>\n",
       "  <tbody>\n",
       "    <tr>\n",
       "      <th>9745</th>\n",
       "      <td>0</td>\n",
       "      <td>0.925926</td>\n",
       "      <td>0.243243</td>\n",
       "      <td>0.4</td>\n",
       "      <td>0.000000</td>\n",
       "      <td>0.333333</td>\n",
       "      <td>0.040131</td>\n",
       "      <td>0.200000</td>\n",
       "      <td>0.423405</td>\n",
       "      <td>1</td>\n",
       "      <td>1</td>\n",
       "      <td>1</td>\n",
       "      <td>-1</td>\n",
       "      <td>1</td>\n",
       "      <td>-1</td>\n",
       "      <td>-1</td>\n",
       "    </tr>\n",
       "    <tr>\n",
       "      <th>4492</th>\n",
       "      <td>0</td>\n",
       "      <td>0.398148</td>\n",
       "      <td>0.189189</td>\n",
       "      <td>0.0</td>\n",
       "      <td>0.509224</td>\n",
       "      <td>0.000000</td>\n",
       "      <td>0.503578</td>\n",
       "      <td>0.000000</td>\n",
       "      <td>0.321175</td>\n",
       "      <td>1</td>\n",
       "      <td>-1</td>\n",
       "      <td>-1</td>\n",
       "      <td>1</td>\n",
       "      <td>-1</td>\n",
       "      <td>1</td>\n",
       "      <td>-1</td>\n",
       "    </tr>\n",
       "    <tr>\n",
       "      <th>3439</th>\n",
       "      <td>0</td>\n",
       "      <td>0.759259</td>\n",
       "      <td>0.243243</td>\n",
       "      <td>0.7</td>\n",
       "      <td>0.567564</td>\n",
       "      <td>0.000000</td>\n",
       "      <td>0.967228</td>\n",
       "      <td>0.350000</td>\n",
       "      <td>0.375686</td>\n",
       "      <td>1</td>\n",
       "      <td>1</td>\n",
       "      <td>1</td>\n",
       "      <td>-1</td>\n",
       "      <td>1</td>\n",
       "      <td>-1</td>\n",
       "      <td>-1</td>\n",
       "    </tr>\n",
       "    <tr>\n",
       "      <th>6077</th>\n",
       "      <td>0</td>\n",
       "      <td>0.560185</td>\n",
       "      <td>0.256757</td>\n",
       "      <td>0.2</td>\n",
       "      <td>0.530893</td>\n",
       "      <td>0.000000</td>\n",
       "      <td>0.357146</td>\n",
       "      <td>0.097297</td>\n",
       "      <td>0.306868</td>\n",
       "      <td>-1</td>\n",
       "      <td>-1</td>\n",
       "      <td>-1</td>\n",
       "      <td>1</td>\n",
       "      <td>1</td>\n",
       "      <td>-1</td>\n",
       "      <td>-1</td>\n",
       "    </tr>\n",
       "    <tr>\n",
       "      <th>5372</th>\n",
       "      <td>0</td>\n",
       "      <td>0.416667</td>\n",
       "      <td>0.283784</td>\n",
       "      <td>0.5</td>\n",
       "      <td>0.000000</td>\n",
       "      <td>0.333333</td>\n",
       "      <td>0.415499</td>\n",
       "      <td>0.230769</td>\n",
       "      <td>0.247112</td>\n",
       "      <td>1</td>\n",
       "      <td>1</td>\n",
       "      <td>-1</td>\n",
       "      <td>1</td>\n",
       "      <td>1</td>\n",
       "      <td>-1</td>\n",
       "      <td>-1</td>\n",
       "    </tr>\n",
       "  </tbody>\n",
       "</table>\n",
       "</div>"
      ],
      "text/plain": [
       "      churn  credit_score       age  tenure   balance  products_number  \\\n",
       "9745      0      0.925926  0.243243     0.4  0.000000         0.333333   \n",
       "4492      0      0.398148  0.189189     0.0  0.509224         0.000000   \n",
       "3439      0      0.759259  0.243243     0.7  0.567564         0.000000   \n",
       "6077      0      0.560185  0.256757     0.2  0.530893         0.000000   \n",
       "5372      0      0.416667  0.283784     0.5  0.000000         0.333333   \n",
       "\n",
       "      estimated_salary  TenureByAge  CreditScoreGivenAge  credit_card  \\\n",
       "9745          0.040131     0.200000             0.423405            1   \n",
       "4492          0.503578     0.000000             0.321175            1   \n",
       "3439          0.967228     0.350000             0.375686            1   \n",
       "6077          0.357146     0.097297             0.306868           -1   \n",
       "5372          0.415499     0.230769             0.247112            1   \n",
       "\n",
       "      active_member  gender_Male  gender_Female  age_class_middle_aged  \\\n",
       "9745              1            1             -1                      1   \n",
       "4492             -1           -1              1                     -1   \n",
       "3439              1            1             -1                      1   \n",
       "6077             -1           -1              1                      1   \n",
       "5372              1           -1              1                      1   \n",
       "\n",
       "      age_class_young  age_class_senior  \n",
       "9745               -1                -1  \n",
       "4492                1                -1  \n",
       "3439               -1                -1  \n",
       "6077               -1                -1  \n",
       "5372               -1                -1  "
      ]
     },
     "execution_count": 60,
     "metadata": {},
     "output_type": "execute_result"
    }
   ],
   "source": [
    "data_train.head()"
   ]
  },
  {
   "cell_type": "code",
   "execution_count": 61,
   "id": "53db2473",
   "metadata": {},
   "outputs": [],
   "source": [
    "x_train=data_train.iloc[:,1:]\n",
    "y_train=data_train.iloc[:,0]"
   ]
  },
  {
   "cell_type": "code",
   "execution_count": 62,
   "id": "e3f546ce",
   "metadata": {},
   "outputs": [
    {
     "data": {
      "text/html": [
       "<div>\n",
       "<style scoped>\n",
       "    .dataframe tbody tr th:only-of-type {\n",
       "        vertical-align: middle;\n",
       "    }\n",
       "\n",
       "    .dataframe tbody tr th {\n",
       "        vertical-align: top;\n",
       "    }\n",
       "\n",
       "    .dataframe thead th {\n",
       "        text-align: right;\n",
       "    }\n",
       "</style>\n",
       "<table border=\"1\" class=\"dataframe\">\n",
       "  <thead>\n",
       "    <tr style=\"text-align: right;\">\n",
       "      <th></th>\n",
       "      <th>credit_score</th>\n",
       "      <th>age</th>\n",
       "      <th>tenure</th>\n",
       "      <th>balance</th>\n",
       "      <th>products_number</th>\n",
       "      <th>estimated_salary</th>\n",
       "      <th>TenureByAge</th>\n",
       "      <th>CreditScoreGivenAge</th>\n",
       "      <th>credit_card</th>\n",
       "      <th>active_member</th>\n",
       "      <th>gender_Male</th>\n",
       "      <th>gender_Female</th>\n",
       "      <th>age_class_middle_aged</th>\n",
       "      <th>age_class_young</th>\n",
       "      <th>age_class_senior</th>\n",
       "    </tr>\n",
       "  </thead>\n",
       "  <tbody>\n",
       "    <tr>\n",
       "      <th>9745</th>\n",
       "      <td>0.925926</td>\n",
       "      <td>0.243243</td>\n",
       "      <td>0.4</td>\n",
       "      <td>0.000000</td>\n",
       "      <td>0.333333</td>\n",
       "      <td>0.040131</td>\n",
       "      <td>0.200000</td>\n",
       "      <td>0.423405</td>\n",
       "      <td>1</td>\n",
       "      <td>1</td>\n",
       "      <td>1</td>\n",
       "      <td>-1</td>\n",
       "      <td>1</td>\n",
       "      <td>-1</td>\n",
       "      <td>-1</td>\n",
       "    </tr>\n",
       "    <tr>\n",
       "      <th>4492</th>\n",
       "      <td>0.398148</td>\n",
       "      <td>0.189189</td>\n",
       "      <td>0.0</td>\n",
       "      <td>0.509224</td>\n",
       "      <td>0.000000</td>\n",
       "      <td>0.503578</td>\n",
       "      <td>0.000000</td>\n",
       "      <td>0.321175</td>\n",
       "      <td>1</td>\n",
       "      <td>-1</td>\n",
       "      <td>-1</td>\n",
       "      <td>1</td>\n",
       "      <td>-1</td>\n",
       "      <td>1</td>\n",
       "      <td>-1</td>\n",
       "    </tr>\n",
       "    <tr>\n",
       "      <th>3439</th>\n",
       "      <td>0.759259</td>\n",
       "      <td>0.243243</td>\n",
       "      <td>0.7</td>\n",
       "      <td>0.567564</td>\n",
       "      <td>0.000000</td>\n",
       "      <td>0.967228</td>\n",
       "      <td>0.350000</td>\n",
       "      <td>0.375686</td>\n",
       "      <td>1</td>\n",
       "      <td>1</td>\n",
       "      <td>1</td>\n",
       "      <td>-1</td>\n",
       "      <td>1</td>\n",
       "      <td>-1</td>\n",
       "      <td>-1</td>\n",
       "    </tr>\n",
       "    <tr>\n",
       "      <th>6077</th>\n",
       "      <td>0.560185</td>\n",
       "      <td>0.256757</td>\n",
       "      <td>0.2</td>\n",
       "      <td>0.530893</td>\n",
       "      <td>0.000000</td>\n",
       "      <td>0.357146</td>\n",
       "      <td>0.097297</td>\n",
       "      <td>0.306868</td>\n",
       "      <td>-1</td>\n",
       "      <td>-1</td>\n",
       "      <td>-1</td>\n",
       "      <td>1</td>\n",
       "      <td>1</td>\n",
       "      <td>-1</td>\n",
       "      <td>-1</td>\n",
       "    </tr>\n",
       "    <tr>\n",
       "      <th>5372</th>\n",
       "      <td>0.416667</td>\n",
       "      <td>0.283784</td>\n",
       "      <td>0.5</td>\n",
       "      <td>0.000000</td>\n",
       "      <td>0.333333</td>\n",
       "      <td>0.415499</td>\n",
       "      <td>0.230769</td>\n",
       "      <td>0.247112</td>\n",
       "      <td>1</td>\n",
       "      <td>1</td>\n",
       "      <td>-1</td>\n",
       "      <td>1</td>\n",
       "      <td>1</td>\n",
       "      <td>-1</td>\n",
       "      <td>-1</td>\n",
       "    </tr>\n",
       "    <tr>\n",
       "      <th>...</th>\n",
       "      <td>...</td>\n",
       "      <td>...</td>\n",
       "      <td>...</td>\n",
       "      <td>...</td>\n",
       "      <td>...</td>\n",
       "      <td>...</td>\n",
       "      <td>...</td>\n",
       "      <td>...</td>\n",
       "      <td>...</td>\n",
       "      <td>...</td>\n",
       "      <td>...</td>\n",
       "      <td>...</td>\n",
       "      <td>...</td>\n",
       "      <td>...</td>\n",
       "      <td>...</td>\n",
       "    </tr>\n",
       "    <tr>\n",
       "      <th>3124</th>\n",
       "      <td>0.791667</td>\n",
       "      <td>0.283784</td>\n",
       "      <td>0.6</td>\n",
       "      <td>0.711785</td>\n",
       "      <td>0.000000</td>\n",
       "      <td>0.335631</td>\n",
       "      <td>0.276923</td>\n",
       "      <td>0.346219</td>\n",
       "      <td>1</td>\n",
       "      <td>-1</td>\n",
       "      <td>1</td>\n",
       "      <td>-1</td>\n",
       "      <td>1</td>\n",
       "      <td>-1</td>\n",
       "      <td>-1</td>\n",
       "    </tr>\n",
       "    <tr>\n",
       "      <th>2519</th>\n",
       "      <td>0.449074</td>\n",
       "      <td>0.594595</td>\n",
       "      <td>0.0</td>\n",
       "      <td>0.665715</td>\n",
       "      <td>0.333333</td>\n",
       "      <td>0.964494</td>\n",
       "      <td>0.000000</td>\n",
       "      <td>0.116785</td>\n",
       "      <td>1</td>\n",
       "      <td>1</td>\n",
       "      <td>-1</td>\n",
       "      <td>1</td>\n",
       "      <td>-1</td>\n",
       "      <td>-1</td>\n",
       "      <td>1</td>\n",
       "    </tr>\n",
       "    <tr>\n",
       "      <th>7242</th>\n",
       "      <td>0.569444</td>\n",
       "      <td>0.351351</td>\n",
       "      <td>0.7</td>\n",
       "      <td>0.308997</td>\n",
       "      <td>0.666667</td>\n",
       "      <td>0.286662</td>\n",
       "      <td>0.286364</td>\n",
       "      <td>0.241328</td>\n",
       "      <td>-1</td>\n",
       "      <td>-1</td>\n",
       "      <td>1</td>\n",
       "      <td>-1</td>\n",
       "      <td>1</td>\n",
       "      <td>-1</td>\n",
       "      <td>-1</td>\n",
       "    </tr>\n",
       "    <tr>\n",
       "      <th>1530</th>\n",
       "      <td>0.446759</td>\n",
       "      <td>0.108108</td>\n",
       "      <td>0.2</td>\n",
       "      <td>0.428496</td>\n",
       "      <td>0.333333</td>\n",
       "      <td>0.604008</td>\n",
       "      <td>0.138462</td>\n",
       "      <td>0.441962</td>\n",
       "      <td>1</td>\n",
       "      <td>1</td>\n",
       "      <td>-1</td>\n",
       "      <td>1</td>\n",
       "      <td>-1</td>\n",
       "      <td>1</td>\n",
       "      <td>-1</td>\n",
       "    </tr>\n",
       "    <tr>\n",
       "      <th>6509</th>\n",
       "      <td>0.740741</td>\n",
       "      <td>0.297297</td>\n",
       "      <td>0.1</td>\n",
       "      <td>0.459984</td>\n",
       "      <td>0.333333</td>\n",
       "      <td>0.902312</td>\n",
       "      <td>0.045000</td>\n",
       "      <td>0.321473</td>\n",
       "      <td>-1</td>\n",
       "      <td>-1</td>\n",
       "      <td>-1</td>\n",
       "      <td>1</td>\n",
       "      <td>1</td>\n",
       "      <td>-1</td>\n",
       "      <td>-1</td>\n",
       "    </tr>\n",
       "  </tbody>\n",
       "</table>\n",
       "<p>8500 rows × 15 columns</p>\n",
       "</div>"
      ],
      "text/plain": [
       "      credit_score       age  tenure   balance  products_number  \\\n",
       "9745      0.925926  0.243243     0.4  0.000000         0.333333   \n",
       "4492      0.398148  0.189189     0.0  0.509224         0.000000   \n",
       "3439      0.759259  0.243243     0.7  0.567564         0.000000   \n",
       "6077      0.560185  0.256757     0.2  0.530893         0.000000   \n",
       "5372      0.416667  0.283784     0.5  0.000000         0.333333   \n",
       "...            ...       ...     ...       ...              ...   \n",
       "3124      0.791667  0.283784     0.6  0.711785         0.000000   \n",
       "2519      0.449074  0.594595     0.0  0.665715         0.333333   \n",
       "7242      0.569444  0.351351     0.7  0.308997         0.666667   \n",
       "1530      0.446759  0.108108     0.2  0.428496         0.333333   \n",
       "6509      0.740741  0.297297     0.1  0.459984         0.333333   \n",
       "\n",
       "      estimated_salary  TenureByAge  CreditScoreGivenAge  credit_card  \\\n",
       "9745          0.040131     0.200000             0.423405            1   \n",
       "4492          0.503578     0.000000             0.321175            1   \n",
       "3439          0.967228     0.350000             0.375686            1   \n",
       "6077          0.357146     0.097297             0.306868           -1   \n",
       "5372          0.415499     0.230769             0.247112            1   \n",
       "...                ...          ...                  ...          ...   \n",
       "3124          0.335631     0.276923             0.346219            1   \n",
       "2519          0.964494     0.000000             0.116785            1   \n",
       "7242          0.286662     0.286364             0.241328           -1   \n",
       "1530          0.604008     0.138462             0.441962            1   \n",
       "6509          0.902312     0.045000             0.321473           -1   \n",
       "\n",
       "      active_member  gender_Male  gender_Female  age_class_middle_aged  \\\n",
       "9745              1            1             -1                      1   \n",
       "4492             -1           -1              1                     -1   \n",
       "3439              1            1             -1                      1   \n",
       "6077             -1           -1              1                      1   \n",
       "5372              1           -1              1                      1   \n",
       "...             ...          ...            ...                    ...   \n",
       "3124             -1            1             -1                      1   \n",
       "2519              1           -1              1                     -1   \n",
       "7242             -1            1             -1                      1   \n",
       "1530              1           -1              1                     -1   \n",
       "6509             -1           -1              1                      1   \n",
       "\n",
       "      age_class_young  age_class_senior  \n",
       "9745               -1                -1  \n",
       "4492                1                -1  \n",
       "3439               -1                -1  \n",
       "6077               -1                -1  \n",
       "5372               -1                -1  \n",
       "...               ...               ...  \n",
       "3124               -1                -1  \n",
       "2519               -1                 1  \n",
       "7242               -1                -1  \n",
       "1530                1                -1  \n",
       "6509               -1                -1  \n",
       "\n",
       "[8500 rows x 15 columns]"
      ]
     },
     "execution_count": 62,
     "metadata": {},
     "output_type": "execute_result"
    }
   ],
   "source": [
    "x_train"
   ]
  },
  {
   "cell_type": "code",
   "execution_count": 63,
   "id": "c6c7d8aa",
   "metadata": {},
   "outputs": [],
   "source": [
    "x_test=data_test.iloc[:,1:]\n",
    "y_test=data_test.iloc[:,0]\n"
   ]
  },
  {
   "cell_type": "code",
   "execution_count": 64,
   "id": "82a8cabf",
   "metadata": {},
   "outputs": [],
   "source": [
    "# Support functions\n",
    "from sklearn.preprocessing import PolynomialFeatures\n",
    "from sklearn.model_selection import cross_val_score,cross_val_predict\n",
    "from sklearn.model_selection import GridSearchCV,RandomizedSearchCV\n",
    "from scipy.stats import uniform\n",
    "\n",
    "# Fit models\n",
    "from sklearn.linear_model import LogisticRegression\n",
    "from sklearn.svm import SVC\n",
    "from sklearn.ensemble import RandomForestClassifier\n",
    "from sklearn.naive_bayes import GaussianNB\n"
   ]
  },
  {
   "cell_type": "code",
   "execution_count": 65,
   "id": "0edf5f07",
   "metadata": {},
   "outputs": [],
   "source": [
    "from sklearn.metrics import f1_score,recall_score,precision_score,confusion_matrix\n"
   ]
  },
  {
   "cell_type": "markdown",
   "id": "d6f9a234",
   "metadata": {},
   "source": [
    "Naive Bayes Model"
   ]
  },
  {
   "cell_type": "code",
   "execution_count": 66,
   "id": "1dbc934e",
   "metadata": {},
   "outputs": [],
   "source": [
    "classifier = GaussianNB()\n",
    "param_grid = {\n",
    "    'var_smoothing': [1e-7, 1e-6, 1e-5]\n",
    "}\n",
    "grid_search = GridSearchCV(estimator=classifier, param_grid=param_grid, cv=3)\n",
    "\n",
    "# Perform the hyperparameter tuning on the training data\n",
    "grid_search.fit(x_train, y_train)\n",
    "\n",
    "\n",
    "best_params = grid_search.best_params_\n",
    "best_model = grid_search.best_estimator_\n",
    "\n"
   ]
  },
  {
   "cell_type": "code",
   "execution_count": 67,
   "id": "47e88842",
   "metadata": {},
   "outputs": [
    {
     "data": {
      "text/plain": [
       "{'var_smoothing': 1e-07}"
      ]
     },
     "execution_count": 67,
     "metadata": {},
     "output_type": "execute_result"
    }
   ],
   "source": [
    "best_params"
   ]
  },
  {
   "cell_type": "code",
   "execution_count": 68,
   "id": "bbb71dac",
   "metadata": {},
   "outputs": [
    {
     "data": {
      "text/plain": [
       "GaussianNB(var_smoothing=1e-07)"
      ]
     },
     "execution_count": 68,
     "metadata": {},
     "output_type": "execute_result"
    }
   ],
   "source": [
    "# custom_priors = [0.21, 0.79] \n",
    "classifierGNB = GaussianNB(var_smoothing=1e-07)\n",
    "classifierGNB.fit(x_train, y_train)"
   ]
  },
  {
   "cell_type": "code",
   "execution_count": 69,
   "id": "90357421",
   "metadata": {},
   "outputs": [
    {
     "data": {
      "text/plain": [
       "array([0.54025974, 0.52767053, 0.5083014 , 0.52281134, 0.48074369])"
      ]
     },
     "execution_count": 69,
     "metadata": {},
     "output_type": "execute_result"
    }
   ],
   "source": [
    "scores=cross_val_score(classifierGNB,x_train,y_train,cv=5,scoring='f1')\n",
    "scores"
   ]
  },
  {
   "cell_type": "code",
   "execution_count": 59,
   "id": "a3b1e52f",
   "metadata": {},
   "outputs": [
    {
     "name": "stdout",
     "output_type": "stream",
     "text": [
      "Correct Predictions: 1180\n",
      "Total Predictions: 1500\n",
      "Accuracy: 0.7866666666666666\n"
     ]
    }
   ],
   "source": [
    "resGNB=classifierGNB.predict(x_test)\n",
    "correct_predictions = sum(p == t for p, t in zip(resGNB, y_test))\n",
    "\n",
    "# Calculate the total number of predictions\n",
    "total_predictions = y_test.shape[0]\n",
    "\n",
    "# Calculate the accuracy\n",
    "accuracy = correct_predictions / total_predictions\n",
    "\n",
    "print(\"Correct Predictions:\", correct_predictions)\n",
    "print(\"Total Predictions:\", total_predictions)\n",
    "print(\"Accuracy:\", accuracy)\n",
    "\n",
    "\n"
   ]
  },
  {
   "cell_type": "code",
   "execution_count": 60,
   "id": "e842b7a5",
   "metadata": {},
   "outputs": [
    {
     "data": {
      "text/plain": [
       "<Axes: >"
      ]
     },
     "execution_count": 60,
     "metadata": {},
     "output_type": "execute_result"
    },
    {
     "data": {
      "image/png": "[encoded data removed]",
      "text/plain": [
       "<Figure size 640x480 with 2 Axes>"
      ]
     },
     "metadata": {},
     "output_type": "display_data"
    }
   ],
   "source": [
    "sns.heatmap(confusion_matrix(y_test,resGNB),annot=True,fmt='d')"
   ]
  },
  {
   "cell_type": "code",
   "execution_count": 70,
   "id": "5046b96d",
   "metadata": {},
   "outputs": [],
   "source": [
    "def best_model(model):\n",
    "    print(model.best_score_)    \n",
    "    print(model.best_params_)\n",
    "    print(model.best_estimator_)\n",
    "def get_auc_scores(y_actual, method,method2):\n",
    "    auc_score = roc_auc_score(y_actual, method); \n",
    "    fpr_df, tpr_df, _ = roc_curve(y_actual, method2); \n",
    "    return (auc_score, fpr_df, tpr_df)"
   ]
  },
  {
   "cell_type": "code",
   "execution_count": null,
   "id": "72a2ad1f",
   "metadata": {},
   "outputs": [],
   "source": [
    "# Fit primal logistic regression\n",
    "param_grid = {'C': [0.1,0.5,1,10,50,100], 'max_iter': [800,1000,1200,1500],'intercept_scaling':[1],'penalty':['l2'], 'tol':[0.00001,0.0001,0.000001],'solver':['sag','newton-cg','lbfgs']}\n",
    "log_primal_Grid = GridSearchCV(LogisticRegression(),param_grid, cv=5, verbose=1,n_jobs=-1,scoring='f1')\n",
    "log_primal_Grid.fit(x_train,y_train)\n",
    "best_model(log_primal_Grid)"
   ]
  },
  {
   "cell_type": "code",
   "execution_count": null,
   "id": "2e2f79b3",
   "metadata": {},
   "outputs": [],
   "source": [
    "ModelLogistic=LogisticRegression(C=0.1, max_iter=800, tol=1e-05)\n",
    "ModelLogistic.fit(x_train,y_train)"
   ]
  },
  {
   "cell_type": "code",
   "execution_count": null,
   "id": "79a00a3f",
   "metadata": {},
   "outputs": [],
   "source": [
    "# logpr=log_primal_Grid.predict(x_test)\n",
    "scores=ModelLogistic.predict(x_train)\n",
    "# scores\n",
    "print(f1_score(scores,y_train),recall_score(scores,y_train),precision_score(scores,y_train))\n"
   ]
  },
  {
   "cell_type": "code",
   "execution_count": null,
   "id": "0596e018",
   "metadata": {},
   "outputs": [],
   "source": [
    "sns.heatmap(confusion_matrix(scores,y_train),annot=True,fmt='d')"
   ]
  },
  {
   "cell_type": "code",
   "execution_count": null,
   "id": "f25232cf",
   "metadata": {},
   "outputs": [],
   "source": [
    "Logisticres=ModelLogistic.predict(x_test)\n",
    "sns.heatmap(confusion_matrix(y_test,Logisticres),annot=True,fmt='d')"
   ]
  },
  {
   "cell_type": "code",
   "execution_count": null,
   "id": "45ad5278",
   "metadata": {},
   "outputs": [],
   "source": [
    "correct_predictions = sum(p == t for p, t in zip(scores, y_test))\n",
    "\n",
    "# Calculate the total number of predictions\n",
    "total_predictions = y_test.shape[0]\n",
    "\n",
    "# Calculate the accuracy\n",
    "accuracy = correct_predictions / total_predictions\n",
    "\n",
    "print(\"Correct Predictions:\", correct_predictions)\n",
    "print(\"Total Predictions:\", total_predictions)\n",
    "print(\"Accuracy:\", accuracy)\n"
   ]
  },
  {
   "cell_type": "code",
   "execution_count": null,
   "id": "c1d563ba",
   "metadata": {},
   "outputs": [],
   "source": [
    "# Fit logistic regression with degree 2 polynomial kernel\n",
    "param_grid = {'C': [0.1,0.5,1,10], 'max_iter': [800,1000],'intercept_scaling':[1],'penalty':['l1'],\n",
    "              'tol':[0.0001,0.000001]}\n",
    "poly2 = PolynomialFeatures(degree=2)\n",
    "df_train_pol2 = poly2.fit_transform(x_train)\n",
    "# Create the logistic regression model\n",
    "logistic_regression = LogisticRegression(solver='liblinear')\n",
    "\n",
    "# Create a GridSearchCV object\n",
    "log_pol2_Grid = GridSearchCV(logistic_regression, param_grid, cv=3, refit=True, verbose=1,n_jobs=-1,scoring='f1')\n",
    "\n",
    "# Fit the model on the polynomial features\n",
    "log_pol2_Grid.fit(df_train_pol2, y_train)\n",
    "best_model(log_pol2_Grid)\n"
   ]
  },
  {
   "cell_type": "code",
   "execution_count": null,
   "id": "71ca6026",
   "metadata": {},
   "outputs": [],
   "source": [
    "mod2LGR=LogisticRegression(C=10, max_iter=800, penalty='l1', solver='liblinear',tol=1e-06)\n",
    "mod2LGR.fit(df_train_pol2, y_train)"
   ]
  },
  {
   "cell_type": "code",
   "execution_count": null,
   "id": "1d811a86",
   "metadata": {},
   "outputs": [],
   "source": [
    "scores=mod2LGR.predict(df_train_pol2)\n",
    "# scores\n",
    "print(f1_score(scores,y_train),recall_score(scores,y_train),precision_score(scores,y_train))\n"
   ]
  },
  {
   "cell_type": "code",
   "execution_count": 71,
   "id": "0d7c575a",
   "metadata": {},
   "outputs": [
    {
     "name": "stdout",
     "output_type": "stream",
     "text": [
      "Fitting 3 folds for each of 24 candidates, totalling 72 fits\n",
      "0.5422520622346735\n",
      "{'C': 10, 'intercept_scaling': 1, 'max_iter': 800, 'penalty': 'l1', 'tol': 0.0001}\n",
      "LogisticRegression(C=10, max_iter=800, penalty='l1', solver='liblinear')\n"
     ]
    }
   ],
   "source": [
    "# Fit logistic regression with degree 2 polynomial kernel\n",
    "param_grid = {'C': [0.1,0.5,1,10], 'max_iter': [800,1000,1200],'intercept_scaling':[1],'penalty':['l1'],\n",
    "              'tol':[0.0001,0.000001]}\n",
    "poly3 = PolynomialFeatures(degree=3)\n",
    "df_train_pol3 = poly3.fit_transform(x_train)\n",
    "# Create the logistic regression model\n",
    "logistic_regression = LogisticRegression(solver='liblinear')\n",
    "\n",
    "# Create a GridSearchCV object\n",
    "log_pol3_Grid = GridSearchCV(logistic_regression, param_grid, cv=3, refit=True, verbose=1,n_jobs=-1,scoring='f1')\n",
    "\n",
    "# Fit the model on the polynomial features\n",
    "log_pol3_Grid.fit(df_train_pol3, y_train)\n",
    "best_model(log_pol3_Grid)\n"
   ]
  },
  {
   "cell_type": "code",
   "execution_count": 72,
   "id": "237d8d85",
   "metadata": {},
   "outputs": [
    {
     "data": {
      "text/plain": [
       "LogisticRegression(C=10, max_iter=800, penalty='l1', solver='liblinear')"
      ]
     },
     "execution_count": 72,
     "metadata": {},
     "output_type": "execute_result"
    }
   ],
   "source": [
    "\n",
    "# Create the logistic regression model\n",
    "\n",
    "mod3LGR=LogisticRegression(C=10, max_iter=800, penalty='l1', solver='liblinear')\n",
    "mod3LGR.fit(df_train_pol3, y_train)"
   ]
  },
  {
   "cell_type": "code",
   "execution_count": 73,
   "id": "c97e2422",
   "metadata": {},
   "outputs": [
    {
     "data": {
      "text/html": [
       "<div>\n",
       "<style scoped>\n",
       "    .dataframe tbody tr th:only-of-type {\n",
       "        vertical-align: middle;\n",
       "    }\n",
       "\n",
       "    .dataframe tbody tr th {\n",
       "        vertical-align: top;\n",
       "    }\n",
       "\n",
       "    .dataframe thead th {\n",
       "        text-align: right;\n",
       "    }\n",
       "</style>\n",
       "<table border=\"1\" class=\"dataframe\">\n",
       "  <thead>\n",
       "    <tr style=\"text-align: right;\">\n",
       "      <th></th>\n",
       "      <th>credit_score</th>\n",
       "      <th>age</th>\n",
       "      <th>tenure</th>\n",
       "      <th>balance</th>\n",
       "      <th>products_number</th>\n",
       "      <th>estimated_salary</th>\n",
       "      <th>TenureByAge</th>\n",
       "      <th>CreditScoreGivenAge</th>\n",
       "      <th>credit_card</th>\n",
       "      <th>active_member</th>\n",
       "      <th>gender_Male</th>\n",
       "      <th>gender_Female</th>\n",
       "      <th>age_class_middle_aged</th>\n",
       "      <th>age_class_young</th>\n",
       "      <th>age_class_senior</th>\n",
       "    </tr>\n",
       "  </thead>\n",
       "  <tbody>\n",
       "    <tr>\n",
       "      <th>9745</th>\n",
       "      <td>0.925926</td>\n",
       "      <td>0.243243</td>\n",
       "      <td>0.4</td>\n",
       "      <td>0.000000</td>\n",
       "      <td>0.333333</td>\n",
       "      <td>0.040131</td>\n",
       "      <td>0.200000</td>\n",
       "      <td>0.423405</td>\n",
       "      <td>1</td>\n",
       "      <td>1</td>\n",
       "      <td>1</td>\n",
       "      <td>-1</td>\n",
       "      <td>1</td>\n",
       "      <td>-1</td>\n",
       "      <td>-1</td>\n",
       "    </tr>\n",
       "    <tr>\n",
       "      <th>4492</th>\n",
       "      <td>0.398148</td>\n",
       "      <td>0.189189</td>\n",
       "      <td>0.0</td>\n",
       "      <td>0.509224</td>\n",
       "      <td>0.000000</td>\n",
       "      <td>0.503578</td>\n",
       "      <td>0.000000</td>\n",
       "      <td>0.321175</td>\n",
       "      <td>1</td>\n",
       "      <td>-1</td>\n",
       "      <td>-1</td>\n",
       "      <td>1</td>\n",
       "      <td>-1</td>\n",
       "      <td>1</td>\n",
       "      <td>-1</td>\n",
       "    </tr>\n",
       "    <tr>\n",
       "      <th>3439</th>\n",
       "      <td>0.759259</td>\n",
       "      <td>0.243243</td>\n",
       "      <td>0.7</td>\n",
       "      <td>0.567564</td>\n",
       "      <td>0.000000</td>\n",
       "      <td>0.967228</td>\n",
       "      <td>0.350000</td>\n",
       "      <td>0.375686</td>\n",
       "      <td>1</td>\n",
       "      <td>1</td>\n",
       "      <td>1</td>\n",
       "      <td>-1</td>\n",
       "      <td>1</td>\n",
       "      <td>-1</td>\n",
       "      <td>-1</td>\n",
       "    </tr>\n",
       "    <tr>\n",
       "      <th>6077</th>\n",
       "      <td>0.560185</td>\n",
       "      <td>0.256757</td>\n",
       "      <td>0.2</td>\n",
       "      <td>0.530893</td>\n",
       "      <td>0.000000</td>\n",
       "      <td>0.357146</td>\n",
       "      <td>0.097297</td>\n",
       "      <td>0.306868</td>\n",
       "      <td>-1</td>\n",
       "      <td>-1</td>\n",
       "      <td>-1</td>\n",
       "      <td>1</td>\n",
       "      <td>1</td>\n",
       "      <td>-1</td>\n",
       "      <td>-1</td>\n",
       "    </tr>\n",
       "    <tr>\n",
       "      <th>5372</th>\n",
       "      <td>0.416667</td>\n",
       "      <td>0.283784</td>\n",
       "      <td>0.5</td>\n",
       "      <td>0.000000</td>\n",
       "      <td>0.333333</td>\n",
       "      <td>0.415499</td>\n",
       "      <td>0.230769</td>\n",
       "      <td>0.247112</td>\n",
       "      <td>1</td>\n",
       "      <td>1</td>\n",
       "      <td>-1</td>\n",
       "      <td>1</td>\n",
       "      <td>1</td>\n",
       "      <td>-1</td>\n",
       "      <td>-1</td>\n",
       "    </tr>\n",
       "    <tr>\n",
       "      <th>...</th>\n",
       "      <td>...</td>\n",
       "      <td>...</td>\n",
       "      <td>...</td>\n",
       "      <td>...</td>\n",
       "      <td>...</td>\n",
       "      <td>...</td>\n",
       "      <td>...</td>\n",
       "      <td>...</td>\n",
       "      <td>...</td>\n",
       "      <td>...</td>\n",
       "      <td>...</td>\n",
       "      <td>...</td>\n",
       "      <td>...</td>\n",
       "      <td>...</td>\n",
       "      <td>...</td>\n",
       "    </tr>\n",
       "    <tr>\n",
       "      <th>3124</th>\n",
       "      <td>0.791667</td>\n",
       "      <td>0.283784</td>\n",
       "      <td>0.6</td>\n",
       "      <td>0.711785</td>\n",
       "      <td>0.000000</td>\n",
       "      <td>0.335631</td>\n",
       "      <td>0.276923</td>\n",
       "      <td>0.346219</td>\n",
       "      <td>1</td>\n",
       "      <td>-1</td>\n",
       "      <td>1</td>\n",
       "      <td>-1</td>\n",
       "      <td>1</td>\n",
       "      <td>-1</td>\n",
       "      <td>-1</td>\n",
       "    </tr>\n",
       "    <tr>\n",
       "      <th>2519</th>\n",
       "      <td>0.449074</td>\n",
       "      <td>0.594595</td>\n",
       "      <td>0.0</td>\n",
       "      <td>0.665715</td>\n",
       "      <td>0.333333</td>\n",
       "      <td>0.964494</td>\n",
       "      <td>0.000000</td>\n",
       "      <td>0.116785</td>\n",
       "      <td>1</td>\n",
       "      <td>1</td>\n",
       "      <td>-1</td>\n",
       "      <td>1</td>\n",
       "      <td>-1</td>\n",
       "      <td>-1</td>\n",
       "      <td>1</td>\n",
       "    </tr>\n",
       "    <tr>\n",
       "      <th>7242</th>\n",
       "      <td>0.569444</td>\n",
       "      <td>0.351351</td>\n",
       "      <td>0.7</td>\n",
       "      <td>0.308997</td>\n",
       "      <td>0.666667</td>\n",
       "      <td>0.286662</td>\n",
       "      <td>0.286364</td>\n",
       "      <td>0.241328</td>\n",
       "      <td>-1</td>\n",
       "      <td>-1</td>\n",
       "      <td>1</td>\n",
       "      <td>-1</td>\n",
       "      <td>1</td>\n",
       "      <td>-1</td>\n",
       "      <td>-1</td>\n",
       "    </tr>\n",
       "    <tr>\n",
       "      <th>1530</th>\n",
       "      <td>0.446759</td>\n",
       "      <td>0.108108</td>\n",
       "      <td>0.2</td>\n",
       "      <td>0.428496</td>\n",
       "      <td>0.333333</td>\n",
       "      <td>0.604008</td>\n",
       "      <td>0.138462</td>\n",
       "      <td>0.441962</td>\n",
       "      <td>1</td>\n",
       "      <td>1</td>\n",
       "      <td>-1</td>\n",
       "      <td>1</td>\n",
       "      <td>-1</td>\n",
       "      <td>1</td>\n",
       "      <td>-1</td>\n",
       "    </tr>\n",
       "    <tr>\n",
       "      <th>6509</th>\n",
       "      <td>0.740741</td>\n",
       "      <td>0.297297</td>\n",
       "      <td>0.1</td>\n",
       "      <td>0.459984</td>\n",
       "      <td>0.333333</td>\n",
       "      <td>0.902312</td>\n",
       "      <td>0.045000</td>\n",
       "      <td>0.321473</td>\n",
       "      <td>-1</td>\n",
       "      <td>-1</td>\n",
       "      <td>-1</td>\n",
       "      <td>1</td>\n",
       "      <td>1</td>\n",
       "      <td>-1</td>\n",
       "      <td>-1</td>\n",
       "    </tr>\n",
       "  </tbody>\n",
       "</table>\n",
       "<p>8500 rows × 15 columns</p>\n",
       "</div>"
      ],
      "text/plain": [
       "      credit_score       age  tenure   balance  products_number  \\\n",
       "9745      0.925926  0.243243     0.4  0.000000         0.333333   \n",
       "4492      0.398148  0.189189     0.0  0.509224         0.000000   \n",
       "3439      0.759259  0.243243     0.7  0.567564         0.000000   \n",
       "6077      0.560185  0.256757     0.2  0.530893         0.000000   \n",
       "5372      0.416667  0.283784     0.5  0.000000         0.333333   \n",
       "...            ...       ...     ...       ...              ...   \n",
       "3124      0.791667  0.283784     0.6  0.711785         0.000000   \n",
       "2519      0.449074  0.594595     0.0  0.665715         0.333333   \n",
       "7242      0.569444  0.351351     0.7  0.308997         0.666667   \n",
       "1530      0.446759  0.108108     0.2  0.428496         0.333333   \n",
       "6509      0.740741  0.297297     0.1  0.459984         0.333333   \n",
       "\n",
       "      estimated_salary  TenureByAge  CreditScoreGivenAge  credit_card  \\\n",
       "9745          0.040131     0.200000             0.423405            1   \n",
       "4492          0.503578     0.000000             0.321175            1   \n",
       "3439          0.967228     0.350000             0.375686            1   \n",
       "6077          0.357146     0.097297             0.306868           -1   \n",
       "5372          0.415499     0.230769             0.247112            1   \n",
       "...                ...          ...                  ...          ...   \n",
       "3124          0.335631     0.276923             0.346219            1   \n",
       "2519          0.964494     0.000000             0.116785            1   \n",
       "7242          0.286662     0.286364             0.241328           -1   \n",
       "1530          0.604008     0.138462             0.441962            1   \n",
       "6509          0.902312     0.045000             0.321473           -1   \n",
       "\n",
       "      active_member  gender_Male  gender_Female  age_class_middle_aged  \\\n",
       "9745              1            1             -1                      1   \n",
       "4492             -1           -1              1                     -1   \n",
       "3439              1            1             -1                      1   \n",
       "6077             -1           -1              1                      1   \n",
       "5372              1           -1              1                      1   \n",
       "...             ...          ...            ...                    ...   \n",
       "3124             -1            1             -1                      1   \n",
       "2519              1           -1              1                     -1   \n",
       "7242             -1            1             -1                      1   \n",
       "1530              1           -1              1                     -1   \n",
       "6509             -1           -1              1                      1   \n",
       "\n",
       "      age_class_young  age_class_senior  \n",
       "9745               -1                -1  \n",
       "4492                1                -1  \n",
       "3439               -1                -1  \n",
       "6077               -1                -1  \n",
       "5372               -1                -1  \n",
       "...               ...               ...  \n",
       "3124               -1                -1  \n",
       "2519               -1                 1  \n",
       "7242               -1                -1  \n",
       "1530                1                -1  \n",
       "6509               -1                -1  \n",
       "\n",
       "[8500 rows x 15 columns]"
      ]
     },
     "execution_count": 73,
     "metadata": {},
     "output_type": "execute_result"
    }
   ],
   "source": [
    "x_train"
   ]
  },
  {
   "cell_type": "code",
   "execution_count": null,
   "id": "1941f76f",
   "metadata": {},
   "outputs": [],
   "source": []
  },
  {
   "cell_type": "code",
   "execution_count": 74,
   "id": "8017b4ee",
   "metadata": {},
   "outputs": [],
   "source": [
    "scores1=mod3LGR.predict_proba(df_train_pol3)\n",
    "# scores\n",
    "# print(f1_score(scores1,y_train),recall_score(scores1,y_train),precision_score(scores1,y_train))\n",
    "\n"
   ]
  },
  {
   "cell_type": "code",
   "execution_count": 109,
   "id": "152c6b41",
   "metadata": {},
   "outputs": [
    {
     "data": {
      "text/plain": [
       "['logisticregressiondegree3.pkl']"
      ]
     },
     "execution_count": 109,
     "metadata": {},
     "output_type": "execute_result"
    }
   ],
   "source": [
    "import joblib\n",
    "joblib.dump(svmrbf, 'logisticregressiondegree3.pkl')"
   ]
  },
  {
   "cell_type": "code",
   "execution_count": 75,
   "id": "276bd9de",
   "metadata": {},
   "outputs": [
    {
     "data": {
      "text/plain": [
       "array([[0.97454829, 0.02545171],\n",
       "       [0.82833212, 0.17166788],\n",
       "       [0.96187621, 0.03812379],\n",
       "       ...,\n",
       "       [0.0311348 , 0.9688652 ],\n",
       "       [0.97731962, 0.02268038],\n",
       "       [0.90074628, 0.09925372]])"
      ]
     },
     "execution_count": 75,
     "metadata": {},
     "output_type": "execute_result"
    }
   ],
   "source": [
    "scores1"
   ]
  },
  {
   "cell_type": "code",
   "execution_count": null,
   "id": "d7194458",
   "metadata": {},
   "outputs": [],
   "source": []
  },
  {
   "cell_type": "code",
   "execution_count": 76,
   "id": "c9e015cf",
   "metadata": {},
   "outputs": [],
   "source": [
    "binary_predictions = (scores1[:, 1] >= 0.30).astype(int)"
   ]
  },
  {
   "cell_type": "code",
   "execution_count": 77,
   "id": "55a9a8de",
   "metadata": {},
   "outputs": [
    {
     "data": {
      "image/png": "[encoded data removed]",
      "text/plain": [
       "<Figure size 800x600 with 1 Axes>"
      ]
     },
     "metadata": {},
     "output_type": "display_data"
    }
   ],
   "source": [
    "import matplotlib.pyplot as plt\n",
    "from sklearn.metrics import roc_curve, roc_auc_score\n",
    "\n",
    "# Assuming you have your logistic regression model (log_pol2_Grid) trained and the test data (x_test, y_test)\n",
    "# Get predicted probabilities for the positive class (class 1)\n",
    "predicted_probabilities = mod3LGR.predict_proba(df_train_pol3)[:, 1]\n",
    "\n",
    "# Compute ROC curve\n",
    "fpr, tpr, thresholds = roc_curve(y_train, predicted_probabilities)\n",
    "\n",
    "# Calculate AUC (Area Under the Curve)\n",
    "auc = roc_auc_score(y_train, predicted_probabilities)\n",
    "\n",
    "# Plot ROC curve\n",
    "plt.figure(figsize=(8, 6))\n",
    "plt.plot(fpr, tpr, color='blue', lw=2, label=f'ROC Curve (AUC = {auc:.2f})')\n",
    "plt.plot([0, 1], [0, 1], color='gray', linestyle='--')\n",
    "plt.xlim([0.0, 1.0])\n",
    "plt.ylim([0.0, 1.05])\n",
    "plt.xlabel('False Positive Rate (FPR)')\n",
    "plt.ylabel('True Positive Rate (TPR)')\n",
    "plt.title('Receiver Operating Characteristic (ROC) Curve')\n",
    "plt.legend(loc='lower right')\n",
    "plt.show()\n"
   ]
  },
  {
   "cell_type": "code",
   "execution_count": 78,
   "id": "25edf5d0",
   "metadata": {},
   "outputs": [
    {
     "name": "stdout",
     "output_type": "stream",
     "text": [
      "0.6297731045932484 0.6033934252386002 0.6585648148148148\n"
     ]
    },
    {
     "data": {
      "image/png": "[encoded data removed]",
      "text/plain": [
       "<Figure size 640x480 with 2 Axes>"
      ]
     },
     "metadata": {},
     "output_type": "display_data"
    }
   ],
   "source": [
    "sns.heatmap(confusion_matrix(binary_predictions,y_train),annot=True,fmt='d')\n",
    "print(f1_score(binary_predictions,y_train),recall_score(binary_predictions,y_train),precision_score(binary_predictions,y_train))\n",
    "\n"
   ]
  },
  {
   "cell_type": "code",
   "execution_count": null,
   "id": "283ec53d",
   "metadata": {},
   "outputs": [],
   "source": [
    "# Transform test data with the same polynomial features\n",
    "df_test_pol2 = poly2.transform(x_test)\n",
    "\n",
    "# Make predictions on the test data\n",
    "predictions = log_pol2_Grid.predict(df_test_pol2)"
   ]
  },
  {
   "cell_type": "code",
   "execution_count": null,
   "id": "169eac15",
   "metadata": {},
   "outputs": [],
   "source": [
    "sns.heatmap(confusion_matrix(predictions,y_test),annot=True,fmt='d')"
   ]
  },
  {
   "cell_type": "code",
   "execution_count": null,
   "id": "e81bdbb0",
   "metadata": {},
   "outputs": [],
   "source": [
    "# Transform test data with the same polynomial features\n",
    "df_test_pol3 = poly3.transform(x_test)\n",
    "\n",
    "# Make predictions on the test data\n",
    "predictions = log_pol3_Grid.predict_proba(df_test_pol3)"
   ]
  },
  {
   "cell_type": "code",
   "execution_count": null,
   "id": "4eb3f845",
   "metadata": {},
   "outputs": [],
   "source": [
    "binary_predictionsTest = (predictions[:, 1] >= 0.3).astype(int)"
   ]
  },
  {
   "cell_type": "code",
   "execution_count": null,
   "id": "266e0477",
   "metadata": {},
   "outputs": [],
   "source": [
    "sns.heatmap(confusion_matrix(binary_predictionsTest,y_test),annot=True,fmt='d')"
   ]
  },
  {
   "cell_type": "code",
   "execution_count": null,
   "id": "39a5e8e4",
   "metadata": {},
   "outputs": [],
   "source": [
    "print(f1_score(binary_predictionsTest,y_test),recall_score(binary_predictionsTest,y_test),precision_score(binary_predictionsTest,y_test))\n"
   ]
  },
  {
   "cell_type": "code",
   "execution_count": null,
   "id": "333f7715",
   "metadata": {},
   "outputs": [],
   "source": [
    "scores=log_pol2_Grid.predict(x_train)\n",
    "# scores\n",
    "print(f1_score(scores,y_train),recall_score(scores,y_train),precision_score(scores,y_train))\n",
    "sns.heatmap(confusion_matrix(scores,y_train),annot=True,fmt='d')"
   ]
  },
  {
   "cell_type": "code",
   "execution_count": null,
   "id": "7e4ca8ee",
   "metadata": {},
   "outputs": [],
   "source": []
  },
  {
   "cell_type": "code",
   "execution_count": 79,
   "id": "0e35817b",
   "metadata": {},
   "outputs": [
    {
     "name": "stdout",
     "output_type": "stream",
     "text": [
      "Fitting 5 folds for each of 24 candidates, totalling 120 fits\n"
     ]
    },
    {
     "data": {
      "text/plain": [
       "GridSearchCV(cv=5, estimator=SVC(), n_jobs=-1,\n",
       "             param_grid={'C': [1, 10, 50, 100], 'degree': [3, 4],\n",
       "                         'gamma': [0.1, 0.01, 0.001], 'kernel': ['poly'],\n",
       "                         'probability': [True]},\n",
       "             scoring='f1', verbose=1)"
      ]
     },
     "execution_count": 79,
     "metadata": {},
     "output_type": "execute_result"
    }
   ],
   "source": [
    "# Fit SVM with pol kernel\n",
    "param_grid = {'C': [1,10,50,100], 'gamma': [0.1,0.01,0.001],'probability':[True],'kernel': ['poly'],'degree':[3,4] }\n",
    "SVM_grid = GridSearchCV(SVC(), param_grid, cv=5, refit=True, verbose=1,n_jobs=-1,scoring='f1')\n",
    "SVM_grid.fit(x_train,y_train)\n"
   ]
  },
  {
   "cell_type": "code",
   "execution_count": 70,
   "id": "a7313ffd",
   "metadata": {},
   "outputs": [
    {
     "name": "stdout",
     "output_type": "stream",
     "text": [
      "0.5169072873182212\n",
      "{'C': 100, 'degree': 4, 'gamma': 0.1, 'kernel': 'poly', 'probability': True}\n",
      "SVC(C=100, degree=4, gamma=0.1, kernel='poly', probability=True)\n"
     ]
    }
   ],
   "source": [
    "best_model(SVM_grid)"
   ]
  },
  {
   "cell_type": "code",
   "execution_count": 71,
   "id": "125426c4",
   "metadata": {},
   "outputs": [
    {
     "data": {
      "text/html": [
       "<style>#sk-container-id-4 {color: black;}#sk-container-id-4 pre{padding: 0;}#sk-container-id-4 div.sk-toggleable {background-color: white;}#sk-container-id-4 label.sk-toggleable__label {cursor: pointer;display: block;width: 100%;margin-bottom: 0;padding: 0.3em;box-sizing: border-box;text-align: center;}#sk-container-id-4 label.sk-toggleable__label-arrow:before {content: \"▸\";float: left;margin-right: 0.25em;color: #696969;}#sk-container-id-4 label.sk-toggleable__label-arrow:hover:before {color: black;}#sk-container-id-4 div.sk-estimator:hover label.sk-toggleable__label-arrow:before {color: black;}#sk-container-id-4 div.sk-toggleable__content {max-height: 0;max-width: 0;overflow: hidden;text-align: left;background-color: #f0f8ff;}#sk-container-id-4 div.sk-toggleable__content pre {margin: 0.2em;color: black;border-radius: 0.25em;background-color: #f0f8ff;}#sk-container-id-4 input.sk-toggleable__control:checked~div.sk-toggleable__content {max-height: 200px;max-width: 100%;overflow: auto;}#sk-container-id-4 input.sk-toggleable__control:checked~label.sk-toggleable__label-arrow:before {content: \"▾\";}#sk-container-id-4 div.sk-estimator input.sk-toggleable__control:checked~label.sk-toggleable__label {background-color: #d4ebff;}#sk-container-id-4 div.sk-label input.sk-toggleable__control:checked~label.sk-toggleable__label {background-color: #d4ebff;}#sk-container-id-4 input.sk-hidden--visually {border: 0;clip: rect(1px 1px 1px 1px);clip: rect(1px, 1px, 1px, 1px);height: 1px;margin: -1px;overflow: hidden;padding: 0;position: absolute;width: 1px;}#sk-container-id-4 div.sk-estimator {font-family: monospace;background-color: #f0f8ff;border: 1px dotted black;border-radius: 0.25em;box-sizing: border-box;margin-bottom: 0.5em;}#sk-container-id-4 div.sk-estimator:hover {background-color: #d4ebff;}#sk-container-id-4 div.sk-parallel-item::after {content: \"\";width: 100%;border-bottom: 1px solid gray;flex-grow: 1;}#sk-container-id-4 div.sk-label:hover label.sk-toggleable__label {background-color: #d4ebff;}#sk-container-id-4 div.sk-serial::before {content: \"\";position: absolute;border-left: 1px solid gray;box-sizing: border-box;top: 0;bottom: 0;left: 50%;z-index: 0;}#sk-container-id-4 div.sk-serial {display: flex;flex-direction: column;align-items: center;background-color: white;padding-right: 0.2em;padding-left: 0.2em;position: relative;}#sk-container-id-4 div.sk-item {position: relative;z-index: 1;}#sk-container-id-4 div.sk-parallel {display: flex;align-items: stretch;justify-content: center;background-color: white;position: relative;}#sk-container-id-4 div.sk-item::before, #sk-container-id-4 div.sk-parallel-item::before {content: \"\";position: absolute;border-left: 1px solid gray;box-sizing: border-box;top: 0;bottom: 0;left: 50%;z-index: -1;}#sk-container-id-4 div.sk-parallel-item {display: flex;flex-direction: column;z-index: 1;position: relative;background-color: white;}#sk-container-id-4 div.sk-parallel-item:first-child::after {align-self: flex-end;width: 50%;}#sk-container-id-4 div.sk-parallel-item:last-child::after {align-self: flex-start;width: 50%;}#sk-container-id-4 div.sk-parallel-item:only-child::after {width: 0;}#sk-container-id-4 div.sk-dashed-wrapped {border: 1px dashed gray;margin: 0 0.4em 0.5em 0.4em;box-sizing: border-box;padding-bottom: 0.4em;background-color: white;}#sk-container-id-4 div.sk-label label {font-family: monospace;font-weight: bold;display: inline-block;line-height: 1.2em;}#sk-container-id-4 div.sk-label-container {text-align: center;}#sk-container-id-4 div.sk-container {/* jupyter's `normalize.less` sets `[hidden] { display: none; }` but bootstrap.min.css set `[hidden] { display: none !important; }` so we also need the `!important` here to be able to override the default hidden behavior on the sphinx rendered scikit-learn.org. See: https://github.com/scikit-learn/scikit-learn/issues/21755 */display: inline-block !important;position: relative;}#sk-container-id-4 div.sk-text-repr-fallback {display: none;}</style><div id=\"sk-container-id-4\" class=\"sk-top-container\"><div class=\"sk-text-repr-fallback\"><pre>SVC(C=100, degree=4, gamma=0.1, kernel=&#x27;poly&#x27;, probability=True)</pre><b>In a Jupyter environment, please rerun this cell to show the HTML representation or trust the notebook. <br />On GitHub, the HTML representation is unable to render, please try loading this page with nbviewer.org.</b></div><div class=\"sk-container\" hidden><div class=\"sk-item\"><div class=\"sk-estimator sk-toggleable\"><input class=\"sk-toggleable__control sk-hidden--visually\" id=\"sk-estimator-id-6\" type=\"checkbox\" checked><label for=\"sk-estimator-id-6\" class=\"sk-toggleable__label sk-toggleable__label-arrow\">SVC</label><div class=\"sk-toggleable__content\"><pre>SVC(C=100, degree=4, gamma=0.1, kernel=&#x27;poly&#x27;, probability=True)</pre></div></div></div></div></div>"
      ],
      "text/plain": [
       "SVC(C=100, degree=4, gamma=0.1, kernel='poly', probability=True)"
      ]
     },
     "execution_count": 71,
     "metadata": {},
     "output_type": "execute_result"
    }
   ],
   "source": [
    "SVM3poly=SVC(C=100, degree=4, gamma=0.1, kernel='poly', probability=True)\n",
    "SVM3poly.fit(x_train,y_train)"
   ]
  },
  {
   "cell_type": "code",
   "execution_count": null,
   "id": "1dc0bb10",
   "metadata": {},
   "outputs": [],
   "source": []
  },
  {
   "cell_type": "code",
   "execution_count": 72,
   "id": "83525c7c",
   "metadata": {},
   "outputs": [
    {
     "name": "stdout",
     "output_type": "stream",
     "text": [
      "0.5357841220179898 0.8262967430639324 0.39641203703703703\n"
     ]
    },
    {
     "data": {
      "text/plain": [
       "<Axes: >"
      ]
     },
     "execution_count": 72,
     "metadata": {},
     "output_type": "execute_result"
    },
    {
     "data": {
      "image/png": "[encoded data removed]",
      "text/plain": [
       "<Figure size 640x480 with 2 Axes>"
      ]
     },
     "metadata": {},
     "output_type": "display_data"
    }
   ],
   "source": [
    "scores=SVM3poly.predict(x_train)\n",
    "# scores\n",
    "print(f1_score(scores,y_train),recall_score(scores,y_train),precision_score(scores,y_train))\n",
    "sns.heatmap(confusion_matrix(scores,y_train),annot=True,fmt='d')"
   ]
  },
  {
   "cell_type": "code",
   "execution_count": null,
   "id": "95fa87c0",
   "metadata": {},
   "outputs": [],
   "source": [
    "predsvmpoly=SVM3poly.predict(x_test)\n",
    "# correct_predictions = sum(p == t for p, t in zip(svmres, y_test))\n",
    "\n",
    "# # Calculate the total number of predictions\n",
    "# total_predictions = y_test.shape[0]\n",
    "\n",
    "# # Calculate the accuracy\n",
    "# accuracy = correct_predictions / total_predictions\n",
    "\n",
    "# print(\"Correct Predictions:\", correct_predictions)\n",
    "# print(\"Total Predictions:\", total_predictions)\n",
    "# print(\"Accuracy:\", accuracy)\n",
    "sns.heatmap(confusion_matrix(predsvmpoly,y_test),annot=True,fmt='d')"
   ]
  },
  {
   "cell_type": "code",
   "execution_count": 82,
   "id": "d6c0cb72",
   "metadata": {},
   "outputs": [
    {
     "name": "stdout",
     "output_type": "stream",
     "text": [
      "Fitting 3 folds for each of 12 candidates, totalling 36 fits\n",
      "0.5139048013972213\n",
      "{'C': 100, 'gamma': 0.1, 'kernel': 'rbf', 'probability': True}\n",
      "SVC(C=100, gamma=0.1, probability=True)\n"
     ]
    }
   ],
   "source": [
    "# Fit SVM with RBF Kernel\n",
    "param_grid = {'C': [0.5,1,10,100], 'gamma': [0.1,0.01,0.001],'probability':[True],'kernel': ['rbf']}\n",
    "svm_grid = GridSearchCV(SVC(), param_grid, cv=3, refit=True, verbose=1,n_jobs=-1,scoring='f1')\n",
    "svm_grid.fit(x_train,y_train)\n",
    "best_model(svm_grid)"
   ]
  },
  {
   "cell_type": "code",
   "execution_count": 83,
   "id": "b394f323",
   "metadata": {},
   "outputs": [
    {
     "data": {
      "text/plain": [
       "SVC(C=100, gamma=0.1, probability=True)"
      ]
     },
     "execution_count": 83,
     "metadata": {},
     "output_type": "execute_result"
    }
   ],
   "source": [
    "svmrbf=SVC(C=100, gamma=0.1, probability=True)\n",
    "svmrbf.fit(x_train,y_train)"
   ]
  },
  {
   "cell_type": "code",
   "execution_count": null,
   "id": "86a1ea2b",
   "metadata": {},
   "outputs": [],
   "source": []
  },
  {
   "cell_type": "code",
   "execution_count": null,
   "id": "43552d15",
   "metadata": {},
   "outputs": [],
   "source": [
    "import joblib\n",
    "joblib.dump(svmrbf, 'SVM_rbf.pkl')"
   ]
  },
  {
   "cell_type": "code",
   "execution_count": 107,
   "id": "f1ed097b",
   "metadata": {},
   "outputs": [],
   "source": [
    "svmprob=(svmrbf.predict_proba(x_train)[:, 1] >= 0.30).astype(int)"
   ]
  },
  {
   "cell_type": "code",
   "execution_count": null,
   "id": "5af542ed",
   "metadata": {},
   "outputs": [],
   "source": []
  },
  {
   "cell_type": "code",
   "execution_count": 108,
   "id": "1ea4cf4f",
   "metadata": {},
   "outputs": [
    {
     "name": "stdout",
     "output_type": "stream",
     "text": [
      "0.5734072022160664 0.7137931034482758 0.4791666666666667\n"
     ]
    },
    {
     "data": {
      "text/plain": [
       "<AxesSubplot:>"
      ]
     },
     "execution_count": 108,
     "metadata": {},
     "output_type": "execute_result"
    },
    {
     "data": {
      "image/png": "[encoded data removed]",
      "text/plain": [
       "<Figure size 640x480 with 2 Axes>"
      ]
     },
     "metadata": {},
     "output_type": "display_data"
    }
   ],
   "source": [
    "\n",
    "# scores\n",
    "print(f1_score(svmprob,y_train),recall_score(svmprob,y_train),precision_score(svmprob,y_train))\n",
    "sns.heatmap(confusion_matrix(svmprob,y_train),annot=True,fmt='d')"
   ]
  },
  {
   "cell_type": "code",
   "execution_count": null,
   "id": "28220262",
   "metadata": {},
   "outputs": [],
   "source": [
    "predsvmrbf=svmrbf.predict(x_test)\n",
    "\n",
    "sns.heatmap(confusion_matrix(predsvmrbf,y_test),annot=True,fmt='d')"
   ]
  },
  {
   "cell_type": "code",
   "execution_count": 80,
   "id": "15678f70",
   "metadata": {},
   "outputs": [
    {
     "name": "stdout",
     "output_type": "stream",
     "text": [
      "Fitting 5 folds for each of 270 candidates, totalling 1350 fits\n",
      "0.44770294358659984\n",
      "{'max_depth': 7, 'max_features': 'log2', 'max_leaf_nodes': 12, 'max_samples': 0.8, 'min_samples_split': 6, 'n_estimators': 100}\n",
      "RandomForestClassifier(max_depth=7, max_features='log2', max_leaf_nodes=12,\n",
      "                       max_samples=0.8, min_samples_split=6, n_jobs=-1,\n",
      "                       oob_score=True)\n"
     ]
    }
   ],
   "source": [
    "param_grid = {'max_depth': [5, 6, 7, 8,10],'n_estimators':[100,120,150],'min_samples_split': [5, 6, 7],'max_features':['auto','log2'],'max_leaf_nodes':[8,10,12],'max_samples':[0.8]}\n",
    "RanFor_grid = GridSearchCV(RandomForestClassifier(n_jobs=-1,oob_score=True), param_grid, cv=5, verbose=1,scoring='f1')\n",
    "RanFor_grid.fit(x_train,y_train)\n",
    "best_model(RanFor_grid)"
   ]
  },
  {
   "cell_type": "code",
   "execution_count": null,
   "id": "b5cfae9d",
   "metadata": {},
   "outputs": [],
   "source": [
    "RanFor_Grid=RandomForestClassifier(max_depth=10, max_features='log2', max_leaf_nodes=12,\n",
    "                       max_samples=0.8, min_samples_split=5, n_estimators=150,\n",
    "                       n_jobs=-1, oob_score=True)\n",
    "RanFor_Grid.fit(x_train,y_train)\n",
    "oob_score = RanFor_Grid.oob_score_\n",
    "print(\"OOB Score:\", oob_score)"
   ]
  },
  {
   "cell_type": "code",
   "execution_count": null,
   "id": "b7bc3bcf",
   "metadata": {},
   "outputs": [],
   "source": [
    "scores=RanFor_Grid.predict(x_train)\n",
    "# scores\n",
    "print(f1_score(scores,y_train),recall_score(scores,y_train),precision_score(scores,y_train))\n",
    "sns.heatmap(confusion_matrix(scores,y_train),annot=True,fmt='d')"
   ]
  },
  {
   "cell_type": "code",
   "execution_count": 81,
   "id": "9c30495a",
   "metadata": {},
   "outputs": [
    {
     "name": "stdout",
     "output_type": "stream",
     "text": [
      "Fitting 5 folds for each of 100 candidates, totalling 500 fits\n",
      "0.8489411764705883\n",
      "{'n_estimators': 150, 'min_samples_split': 5, 'max_samples': 0.8, 'max_leaf_nodes': 14, 'max_features': 'auto', 'max_depth': 12}\n",
      "RandomForestClassifier(max_depth=12, max_leaf_nodes=14, max_samples=0.8,\n",
      "                       min_samples_split=5, n_estimators=150, n_jobs=-1,\n",
      "                       oob_score=True)\n"
     ]
    }
   ],
   "source": [
    "param_grid = {'max_depth': [ 6, 7, 8,10,12],'n_estimators':[100,150],'min_samples_split': [5, 6, 7],'max_features':['auto','log2'],'max_leaf_nodes':[8,10,12,14],'max_samples':[0.8]}\n",
    "RanFor_rancv=RandomizedSearchCV(RandomForestClassifier(n_jobs=-1,oob_score=True),param_grid,n_iter=100,cv=5,n_jobs=-1,verbose=1)\n",
    "RanFor_rancv.fit(x_train,y_train)\n",
    "best_model(RanFor_rancv)"
   ]
  },
  {
   "cell_type": "code",
   "execution_count": 84,
   "id": "95cc970f",
   "metadata": {},
   "outputs": [
    {
     "name": "stdout",
     "output_type": "stream",
     "text": [
      "OOB Score: 0.8464705882352941\n"
     ]
    }
   ],
   "source": [
    "RanFor_Rancv=RandomForestClassifier(max_depth=12, max_leaf_nodes=14, max_samples=0.8,\n",
    "                       min_samples_split=5, n_estimators=150, n_jobs=-1,\n",
    "                       oob_score=True)\n",
    "RanFor_Rancv.fit(x_train,y_train)\n",
    "oob_score = RanFor_Rancv.oob_score_\n",
    "print(\"OOB Score:\", oob_score)"
   ]
  },
  {
   "cell_type": "code",
   "execution_count": 85,
   "id": "ba21ebb5",
   "metadata": {},
   "outputs": [
    {
     "name": "stdout",
     "output_type": "stream",
     "text": [
      "0.46193109315185027 0.8715890850722311 0.3142361111111111\n"
     ]
    },
    {
     "data": {
      "text/plain": [
       "<AxesSubplot:>"
      ]
     },
     "execution_count": 85,
     "metadata": {},
     "output_type": "execute_result"
    },
    {
     "data": {
      "image/png": "[encoded data removed]",
      "text/plain": [
       "<Figure size 640x480 with 2 Axes>"
      ]
     },
     "metadata": {},
     "output_type": "display_data"
    }
   ],
   "source": [
    "scores=RanFor_Rancv.predict(x_train)\n",
    "# scores\n",
    "print(f1_score(scores,y_train),recall_score(scores,y_train),precision_score(scores,y_train))\n",
    "sns.heatmap(confusion_matrix(scores,y_train),annot=True,fmt='d')"
   ]
  },
  {
   "cell_type": "code",
   "execution_count": null,
   "id": "0e579265",
   "metadata": {},
   "outputs": [],
   "source": [
    "scores=RanFor_grid.predict(x_train)\n",
    "# scores\n",
    "print(f1_score(scores,y_train),recall_score(scores,y_train),precision_score(scores,y_train))\n",
    "sns.heatmap(confusion_matrix(scores,y_train),annot=True,fmt='d')"
   ]
  },
  {
   "cell_type": "code",
   "execution_count": null,
   "id": "1264dd86",
   "metadata": {},
   "outputs": [],
   "source": [
    "pred=RanFor_grid.predict(x_test)\n",
    "correct_predictions = sum(p == t for p, t in zip(pred, y_test))\n",
    "\n",
    "# Calculate the total number of predictions\n",
    "total_predictions = y_test.shape[0]\n",
    "\n",
    "# Calculate the accuracy\n",
    "accuracy = correct_predictions / total_predictions\n",
    "\n",
    "print(\"Correct Predictions:\", correct_predictions)\n",
    "print(\"Total Predictions:\", total_predictions)\n",
    "print(\"Accuracy:\", accuracy)\n"
   ]
  },
  {
   "cell_type": "code",
   "execution_count": 86,
   "id": "4d9858a7",
   "metadata": {},
   "outputs": [
    {
     "name": "stdout",
     "output_type": "stream",
     "text": [
      "Requirement already satisfied: xgboost in /home/boss/anaconda3/lib/python3.9/site-packages (1.7.6)\n",
      "Requirement already satisfied: numpy in /home/boss/anaconda3/lib/python3.9/site-packages (from xgboost) (1.24.3)\n",
      "Requirement already satisfied: scipy in /home/boss/anaconda3/lib/python3.9/site-packages (from xgboost) (1.7.3)\n",
      "\u001b[33mWARNING: Retrying (Retry(total=4, connect=None, read=None, redirect=None, status=None)) after connection broken by 'NewConnectionError('<pip._vendor.urllib3.connection.HTTPSConnection object at 0x7ff0a3ea7400>: Failed to establish a new connection: [Errno -3] Temporary failure in name resolution')': /simple/numpy/\u001b[0m\u001b[33m\n",
      "\u001b[0m\u001b[33mWARNING: Retrying (Retry(total=3, connect=None, read=None, redirect=None, status=None)) after connection broken by 'NewConnectionError('<pip._vendor.urllib3.connection.HTTPSConnection object at 0x7ff0a3ea7730>: Failed to establish a new connection: [Errno -3] Temporary failure in name resolution')': /simple/numpy/\u001b[0m\u001b[33m\n",
      "\u001b[0m\u001b[33mWARNING: Retrying (Retry(total=2, connect=None, read=None, redirect=None, status=None)) after connection broken by 'NewConnectionError('<pip._vendor.urllib3.connection.HTTPSConnection object at 0x7ff0a3ea7a90>: Failed to establish a new connection: [Errno -3] Temporary failure in name resolution')': /simple/numpy/\u001b[0m\u001b[33m\n",
      "\u001b[0m\u001b[33mWARNING: Retrying (Retry(total=1, connect=None, read=None, redirect=None, status=None)) after connection broken by 'NewConnectionError('<pip._vendor.urllib3.connection.HTTPSConnection object at 0x7ff0a3ea24f0>: Failed to establish a new connection: [Errno -3] Temporary failure in name resolution')': /simple/numpy/\u001b[0m\u001b[33m\n",
      "\u001b[0m\u001b[33mWARNING: Retrying (Retry(total=0, connect=None, read=None, redirect=None, status=None)) after connection broken by 'NewConnectionError('<pip._vendor.urllib3.connection.HTTPSConnection object at 0x7ff0a3ea2190>: Failed to establish a new connection: [Errno -3] Temporary failure in name resolution')': /simple/numpy/\u001b[0m\u001b[33m\n",
      "\u001b[0m\u001b[33mWARNING: Retrying (Retry(total=4, connect=None, read=None, redirect=None, status=None)) after connection broken by 'NewConnectionError('<pip._vendor.urllib3.connection.HTTPSConnection object at 0x7ff0a3e37550>: Failed to establish a new connection: [Errno -3] Temporary failure in name resolution')': /simple/scipy/\u001b[0m\u001b[33m\n",
      "\u001b[0m\u001b[33mWARNING: Retrying (Retry(total=3, connect=None, read=None, redirect=None, status=None)) after connection broken by 'NewConnectionError('<pip._vendor.urllib3.connection.HTTPSConnection object at 0x7ff0a3e37a00>: Failed to establish a new connection: [Errno -3] Temporary failure in name resolution')': /simple/scipy/\u001b[0m\u001b[33m\n",
      "\u001b[0m\u001b[33mWARNING: Retrying (Retry(total=2, connect=None, read=None, redirect=None, status=None)) after connection broken by 'NewConnectionError('<pip._vendor.urllib3.connection.HTTPSConnection object at 0x7ff0a3e37bb0>: Failed to establish a new connection: [Errno -3] Temporary failure in name resolution')': /simple/scipy/\u001b[0m\u001b[33m\n",
      "\u001b[0m\u001b[33mWARNING: Retrying (Retry(total=1, connect=None, read=None, redirect=None, status=None)) after connection broken by 'NewConnectionError('<pip._vendor.urllib3.connection.HTTPSConnection object at 0x7ff0a3e37d60>: Failed to establish a new connection: [Errno -3] Temporary failure in name resolution')': /simple/scipy/\u001b[0m\u001b[33m\n",
      "\u001b[0m\u001b[33mWARNING: Retrying (Retry(total=0, connect=None, read=None, redirect=None, status=None)) after connection broken by 'NewConnectionError('<pip._vendor.urllib3.connection.HTTPSConnection object at 0x7ff0a3e37f10>: Failed to establish a new connection: [Errno -3] Temporary failure in name resolution')': /simple/scipy/\u001b[0m\u001b[33m\n",
      "\u001b[0mINFO: pip is looking at multiple versions of numpy to determine which version is compatible with other requirements. This could take a while.\n",
      "INFO: pip is looking at multiple versions of xgboost to determine which version is compatible with other requirements. This could take a while.\n",
      "\u001b[33mWARNING: Retrying (Retry(total=4, connect=None, read=None, redirect=None, status=None)) after connection broken by 'NewConnectionError('<pip._vendor.urllib3.connection.HTTPSConnection object at 0x7ff0a3e45640>: Failed to establish a new connection: [Errno -3] Temporary failure in name resolution')': /simple/xgboost/\u001b[0m\u001b[33m\n",
      "\u001b[0m\u001b[33mWARNING: Retrying (Retry(total=3, connect=None, read=None, redirect=None, status=None)) after connection broken by 'NewConnectionError('<pip._vendor.urllib3.connection.HTTPSConnection object at 0x7ff0a3e459d0>: Failed to establish a new connection: [Errno -3] Temporary failure in name resolution')': /simple/xgboost/\u001b[0m\u001b[33m\n",
      "\u001b[0m\u001b[33mWARNING: Retrying (Retry(total=2, connect=None, read=None, redirect=None, status=None)) after connection broken by 'NewConnectionError('<pip._vendor.urllib3.connection.HTTPSConnection object at 0x7ff0a3e45bb0>: Failed to establish a new connection: [Errno -3] Temporary failure in name resolution')': /simple/xgboost/\u001b[0m\u001b[33m\n",
      "\u001b[0m\u001b[33mWARNING: Retrying (Retry(total=1, connect=None, read=None, redirect=None, status=None)) after connection broken by 'NewConnectionError('<pip._vendor.urllib3.connection.HTTPSConnection object at 0x7ff0a3e45d90>: Failed to establish a new connection: [Errno -3] Temporary failure in name resolution')': /simple/xgboost/\u001b[0m\u001b[33m\n",
      "\u001b[0m\u001b[33mWARNING: Retrying (Retry(total=0, connect=None, read=None, redirect=None, status=None)) after connection broken by 'NewConnectionError('<pip._vendor.urllib3.connection.HTTPSConnection object at 0x7ff0a3e45fa0>: Failed to establish a new connection: [Errno -3] Temporary failure in name resolution')': /simple/xgboost/\u001b[0m\u001b[33m\n",
      "\u001b[0m\u001b[31mERROR: Cannot install scipy==1.7.3 and xgboost==1.7.6 because these package versions have conflicting dependencies.\u001b[0m\u001b[31m\n",
      "\u001b[0m\n",
      "The conflict is caused by:\n",
      "    xgboost 1.7.6 depends on numpy\n",
      "    scipy 1.7.3 depends on numpy<1.23.0 and >=1.16.5\n",
      "\n",
      "To fix this you could try to:\n",
      "1. loosen the range of package versions you've specified\n",
      "2. remove package versions to allow pip attempt to solve the dependency conflict\n",
      "\n",
      "\u001b[31mERROR: ResolutionImpossible: for help visit https://pip.pypa.io/en/latest/topics/dependency-resolution/#dealing-with-dependency-conflicts\u001b[0m\u001b[31m\n",
      "\u001b[0mNote: you may need to restart the kernel to use updated packages.\n"
     ]
    }
   ],
   "source": [
    "pip install xgboost"
   ]
  },
  {
   "cell_type": "code",
   "execution_count": 87,
   "id": "9a8529ba",
   "metadata": {},
   "outputs": [],
   "source": [
    "import xgboost as xgb"
   ]
  },
  {
   "cell_type": "code",
   "execution_count": 88,
   "id": "60b14bf4",
   "metadata": {},
   "outputs": [],
   "source": [
    "model=xgb.XGBClassifier()"
   ]
  },
  {
   "cell_type": "code",
   "execution_count": 89,
   "id": "1d1c2fb5",
   "metadata": {},
   "outputs": [
    {
     "data": {
      "text/plain": [
       "XGBClassifier(base_score=None, booster=None, callbacks=None,\n",
       "              colsample_bylevel=None, colsample_bynode=None,\n",
       "              colsample_bytree=None, early_stopping_rounds=None,\n",
       "              enable_categorical=False, eval_metric=None, feature_types=None,\n",
       "              gamma=None, gpu_id=None, grow_policy=None, importance_type=None,\n",
       "              interaction_constraints=None, learning_rate=None, max_bin=None,\n",
       "              max_cat_threshold=None, max_cat_to_onehot=None,\n",
       "              max_delta_step=None, max_depth=None, max_leaves=None,\n",
       "              min_child_weight=None, missing=nan, monotone_constraints=None,\n",
       "              n_estimators=100, n_jobs=None, num_parallel_tree=None,\n",
       "              predictor=None, random_state=None, ...)"
      ]
     },
     "execution_count": 89,
     "metadata": {},
     "output_type": "execute_result"
    }
   ],
   "source": [
    "model.fit(x_train,y_train) "
   ]
  },
  {
   "cell_type": "code",
   "execution_count": 90,
   "id": "e46e3e19",
   "metadata": {},
   "outputs": [
    {
     "name": "stdout",
     "output_type": "stream",
     "text": [
      "Fitting 5 folds for each of 45 candidates, totalling 225 fits\n"
     ]
    },
    {
     "data": {
      "text/plain": [
       "GridSearchCV(cv=5,\n",
       "             estimator=XGBClassifier(base_score=None, booster=None,\n",
       "                                     callbacks=None, colsample_bylevel=None,\n",
       "                                     colsample_bynode=None,\n",
       "                                     colsample_bytree=None,\n",
       "                                     early_stopping_rounds=None,\n",
       "                                     enable_categorical=False, eval_metric=None,\n",
       "                                     feature_types=None, gamma=None,\n",
       "                                     gpu_id=None, grow_policy=None,\n",
       "                                     importance_type=None,\n",
       "                                     interaction_constraints=None,\n",
       "                                     learning_rate=None,...\n",
       "                                     max_cat_threshold=None,\n",
       "                                     max_cat_to_onehot=None,\n",
       "                                     max_delta_step=None, max_depth=None,\n",
       "                                     max_leaves=None, min_child_weight=None,\n",
       "                                     missing=nan, monotone_constraints=None,\n",
       "                                     n_estimators=100, n_jobs=None,\n",
       "                                     num_parallel_tree=None, predictor=None,\n",
       "                                     random_state=None, ...),\n",
       "             param_grid={'learning_rate': [0.1, 0.01, 0.001],\n",
       "                         'max_depth': [3, 5, 7],\n",
       "                         'n_estimators': [100, 150, 200, 250, 300]},\n",
       "             verbose=1)"
      ]
     },
     "execution_count": 90,
     "metadata": {},
     "output_type": "execute_result"
    }
   ],
   "source": [
    "param_grid = {\n",
    "    'learning_rate': [0.1, 0.01, 0.001],  # Learning rate\n",
    "    'max_depth': [3, 5, 7],              # Maximum depth of the tree\n",
    "    'n_estimators': [100, 150,200,250,300],     # Number of boosting rounds\n",
    "    # Add other hyperparameters as needed\n",
    "}\n",
    "\n",
    "XG=GridSearchCV(model,param_grid=param_grid,cv=5,verbose=1)\n",
    "XG.fit(x_train,y_train)\n"
   ]
  },
  {
   "cell_type": "code",
   "execution_count": 92,
   "id": "65c3fc1b",
   "metadata": {},
   "outputs": [
    {
     "name": "stdout",
     "output_type": "stream",
     "text": [
      "0.857764705882353\n",
      "{'learning_rate': 0.1, 'max_depth': 3, 'n_estimators': 100}\n",
      "XGBClassifier(base_score=None, booster=None, callbacks=None,\n",
      "              colsample_bylevel=None, colsample_bynode=None,\n",
      "              colsample_bytree=None, early_stopping_rounds=None,\n",
      "              enable_categorical=False, eval_metric=None, feature_types=None,\n",
      "              gamma=None, gpu_id=None, grow_policy=None, importance_type=None,\n",
      "              interaction_constraints=None, learning_rate=0.1, max_bin=None,\n",
      "              max_cat_threshold=None, max_cat_to_onehot=None,\n",
      "              max_delta_step=None, max_depth=3, max_leaves=None,\n",
      "              min_child_weight=None, missing=nan, monotone_constraints=None,\n",
      "              n_estimators=100, n_jobs=None, num_parallel_tree=None,\n",
      "              predictor=None, random_state=None, ...)\n"
     ]
    }
   ],
   "source": [
    "best_model(XG)"
   ]
  },
  {
   "cell_type": "code",
   "execution_count": 95,
   "id": "1407ffc7",
   "metadata": {},
   "outputs": [
    {
     "data": {
      "text/plain": [
       "XGBClassifier(base_score=None, booster=None, callbacks=None,\n",
       "              colsample_bylevel=None, colsample_bynode=None,\n",
       "              colsample_bytree=None, early_stopping_rounds=None,\n",
       "              enable_categorical=False, eval_metric=None, feature_types=None,\n",
       "              gamma=None, gpu_id=None, grow_policy=None, importance_type=None,\n",
       "              interaction_constraints=None, learning_rate=0.1, max_bin=None,\n",
       "              max_cat_threshold=None, max_cat_to_onehot=None,\n",
       "              max_delta_step=None, max_depth=3, max_leaves=None,\n",
       "              min_child_weight=None, missing=nan, monotone_constraints=None,\n",
       "              n_estimators=100, n_jobs=None, num_parallel_tree=None,\n",
       "              predictor=None, random_state=None, ...)"
      ]
     },
     "execution_count": 95,
     "metadata": {},
     "output_type": "execute_result"
    }
   ],
   "source": [
    "XGB=xgb.XGBClassifier(learning_rate= 0.1, max_depth= 3, n_estimators=100)\n",
    "XGB.fit(x_train,y_train)"
   ]
  },
  {
   "cell_type": "code",
   "execution_count": 96,
   "id": "bda9dfa0",
   "metadata": {
    "scrolled": true
   },
   "outputs": [
    {
     "name": "stdout",
     "output_type": "stream",
     "text": [
      "0.46193109315185027 0.8715890850722311 0.3142361111111111\n"
     ]
    },
    {
     "data": {
      "text/plain": [
       "<AxesSubplot:>"
      ]
     },
     "execution_count": 96,
     "metadata": {},
     "output_type": "execute_result"
    },
    {
     "data": {
      "image/png": "[encoded data removed]",
      "text/plain": [
       "<Figure size 640x480 with 2 Axes>"
      ]
     },
     "metadata": {},
     "output_type": "display_data"
    }
   ],
   "source": [
    "# scores=cross_val_predict(,x_train,y_train,cv=5,method='predict')\n",
    "score=XGB.predict(x_train)\n",
    "print(f1_score(scores,y_train),recall_score(scores,y_train),precision_score(scores,y_train))\n",
    "sns.heatmap(confusion_matrix(scores,y_train),annot=True,fmt='d')"
   ]
  },
  {
   "cell_type": "code",
   "execution_count": null,
   "id": "c86a85a7",
   "metadata": {},
   "outputs": [],
   "source": [
    "sns.heatmap(confusion_matrix(scores,y_train),annot=True,fmt='d')"
   ]
  },
  {
   "cell_type": "code",
   "execution_count": null,
   "id": "dab3b887",
   "metadata": {},
   "outputs": [],
   "source": [
    "from sklearn.model_selection import train_test_split\n",
    "# Step 1: Create a holdout set\n",
    "X_train, X_holdout, Y_train, Y_holdout = train_test_split(x_train, y_train, test_size=0.2, random_state=42)\n",
    "\n",
    "# Step 2: Select and train base models\n",
    "XGB1=xgb.XGBClassifier(learning_rate=0.1,max_depth=3,n_estimators=120)\n",
    "RanFor_1=RandomForestClassifier(n_estimators=120,max_depth=10, max_features='log2', max_leaf_nodes=14,\n",
    "                       max_samples=0.8, min_samples_split=6, n_jobs=-1,\n",
    "                       oob_score=True)\n",
    "\n",
    "XGB1.fit(X_train,Y_train)\n",
    "RanFor_1.fit(X_train,Y_train)\n",
    "poly3 = PolynomialFeatures(degree=3)\n",
    "df_train_pol3 = poly3.fit_transform(X_train)\n",
    "\n",
    "mod3LGR=LogisticRegression(C=0.5, max_iter=1000, penalty='l1', solver='liblinear')\n",
    "mod3LGR.fit(df_train_pol3, Y_train)\n",
    "\n",
    "\n",
    "# Step 4: Generate predictions from base models\n",
    "predictions_base1 = XGB1.predict(X_holdout)\n",
    "predictions_base2 = RanFor_1.predict(X_holdout)\n",
    "df_test_pol3 = poly3.fit_transform(X_holdout)\n",
    "base3=mod3LGR.predict(df_test_pol3)\n",
    "# Step 5: Concatenate predictions\n",
    "meta_features = np.column_stack((predictions_base1, predictions_base2,base3))\n",
    "\n",
    "\n"
   ]
  },
  {
   "cell_type": "code",
   "execution_count": null,
   "id": "1a5bdc7c",
   "metadata": {},
   "outputs": [],
   "source": [
    "# Step 6: Train the meta-model\n",
    "param_grid = {'C': [0.5,1,10,100], 'gamma': [0.1,0.01,0.001],'probability':[True],'kernel': ['rbf']}\n",
    "svm_grid = GridSearchCV(SVC(), param_grid, cv=3, refit=True, verbose=1)\n",
    "svm_grid.fit(meta_features,Y_holdout)\n",
    "best_model(svm_grid)"
   ]
  },
  {
   "cell_type": "code",
   "execution_count": null,
   "id": "2de2efd9",
   "metadata": {},
   "outputs": [],
   "source": [
    "meta_model =SVC(C=0.5, gamma=0.1, probability=True)\n",
    "meta_model.fit(meta_features, Y_holdout)\n",
    "df_test_pol3 = poly3.fit_transform(x_test)\n",
    "base3=mod3LGR.predict(df_test_pol3)\n",
    "# Step 7: Evaluate the stacked ensemble\n",
    "meta_features_test = np.column_stack((XGB1.predict(x_test), RanFor_1.predict(x_test),base3))\n",
    "stacked_predictions = meta_model.predict(meta_features_test)"
   ]
  },
  {
   "cell_type": "code",
   "execution_count": null,
   "id": "e76490dd",
   "metadata": {},
   "outputs": [],
   "source": [
    "stacked_predictions_prob = meta_model.predict_proba(meta_features_test)\n",
    "stacked_predictions_prob"
   ]
  },
  {
   "cell_type": "code",
   "execution_count": null,
   "id": "cca21504",
   "metadata": {},
   "outputs": [],
   "source": [
    "import matplotlib.pyplot as plt\n",
    "from sklearn.metrics import roc_curve, roc_auc_score\n",
    "\n",
    "# Assuming you have your logistic regression model (log_pol2_Grid) trained and the test data (x_test, y_test)\n",
    "# Get predicted probabilities for the positive class (class 1)\n",
    "predicted_probabilities = meta_model.predict_proba(meta_features_test)[:, 1]\n",
    "\n",
    "# Compute ROC curve\n",
    "fpr, tpr, thresholds = roc_curve(y_test, predicted_probabilities)\n",
    "\n",
    "# Calculate AUC (Area Under the Curve)\n",
    "auc = roc_auc_score(y_test, predicted_probabilities)\n",
    "\n",
    "# Plot ROC curve\n",
    "plt.figure(figsize=(8, 6))\n",
    "plt.plot(fpr, tpr, color='blue', lw=2, label=f'ROC Curve (AUC = {auc:.2f})')\n",
    "plt.plot([0, 1], [0, 1], color='gray', linestyle='--')\n",
    "plt.xlim([0.0, 1.0])\n",
    "plt.ylim([0.0, 1.05])\n",
    "plt.xlabel('False Positive Rate (FPR)')\n",
    "plt.ylabel('True Positive Rate (TPR)')\n",
    "plt.title('Receiver Operating Characteristic (ROC) Curve')\n",
    "plt.legend(loc='lower right')\n",
    "plt.show()\n"
   ]
  },
  {
   "cell_type": "code",
   "execution_count": null,
   "id": "dccc2eff",
   "metadata": {},
   "outputs": [],
   "source": [
    "# Get predicted probabilities for the training data\n",
    "predicted_probabilities = meta_model.predict_proba(meta_features_test)\n",
    "\n",
    "# Choose a custom threshold (e.g., 0.6)\n",
    "custom_threshold = 0.3\n",
    "\n",
    "# Apply the custom threshold to get binary predictions\n",
    "binary_predictions = (predicted_probabilities[:, 1] >= custom_threshold).astype(int)\n",
    "\n",
    "# Calculate F1 score, recall, and precision using binary predictions\n",
    "f1 = f1_score(y_test, binary_predictions)\n",
    "recall = recall_score(y_test, binary_predictions)\n",
    "precision = precision_score(y_test, binary_predictions)\n",
    "print(f1,recall,precision)\n"
   ]
  },
  {
   "cell_type": "code",
   "execution_count": null,
   "id": "73c7170a",
   "metadata": {},
   "outputs": [],
   "source": [
    "\n",
    "sns.heatmap(confusion_matrix(binary_predictions,y_test),annot=True,fmt='d')"
   ]
  },
  {
   "cell_type": "code",
   "execution_count": null,
   "id": "f9b30fab",
   "metadata": {},
   "outputs": [],
   "source": [
    "import numpy as np\n",
    "from sklearn.preprocessing import PolynomialFeatures\n",
    "\n",
    "# Create two continuous numerical features\n",
    "feature1 = np.array([1, 0,0,0,0])\n",
    "feature2 = np.array([0,1,0,0,0])\n",
    "\n",
    "# Combine the features into a 2D array\n",
    "X = np.column_stack((feature1, feature2))\n",
    "\n",
    "# Create a PolynomialFeatures transformer for quadratic features (degree=2)\n",
    "poly = PolynomialFeatures(degree=2)\n",
    "\n",
    "# Apply polynomial features transformation\n",
    "X_poly = poly.fit_transform(X)\n",
    "\n",
    "# Display the original features and the polynomial features\n",
    "print(\"Original Features:\")\n",
    "print(X)\n",
    "print(\"\\nPolynomial Features (Quadratic):\")\n",
    "print(X_poly)\n"
   ]
  },
  {
   "cell_type": "code",
   "execution_count": null,
   "id": "ee63bdce",
   "metadata": {},
   "outputs": [],
   "source": []
  }
 ],
 "metadata": {
  "kernelspec": {
   "display_name": "Python 3 (ipykernel)",
   "language": "python",
   "name": "python3"
  },
  "language_info": {
   "codemirror_mode": {
    "name": "ipython",
    "version": 3
   },
   "file_extension": ".py",
   "mimetype": "text/x-python",
   "name": "python",
   "nbconvert_exporter": "python",
   "pygments_lexer": "ipython3",
   "version": "3.9.13"
  }
 },
 "nbformat": 4,
 "nbformat_minor": 5
}
